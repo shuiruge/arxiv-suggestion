{
 "cells": [
  {
   "cell_type": "code",
   "execution_count": 1,
   "metadata": {
    "collapsed": false
   },
   "outputs": [],
   "source": [
    "import arxiv_suggestion as axs"
   ]
  },
  {
   "cell_type": "markdown",
   "metadata": {},
   "source": [
    "## Personal Data"
   ]
  },
  {
   "cell_type": "markdown",
   "metadata": {},
   "source": [
    "### Initialize Your Personal Data if You Have None"
   ]
  },
  {
   "cell_type": "code",
   "execution_count": 2,
   "metadata": {
    "collapsed": false
   },
   "outputs": [],
   "source": [
    "## Run this if your personal_data is empty.\n",
    "## But generally it's not.\n",
    "#\n",
    "personal_data = axs.initialize_personal_data()\n",
    "pd = open('personal_data', 'w')\n",
    "pd.write(str(personal_data))\n",
    "pd.close()"
   ]
  },
  {
   "cell_type": "markdown",
   "metadata": {},
   "source": [
    "Now my personal_data has been initialized to be empty."
   ]
  },
  {
   "cell_type": "code",
   "execution_count": 3,
   "metadata": {
    "collapsed": false
   },
   "outputs": [
    {
     "data": {
      "text/plain": [
       "{'disliked_papers': [],\n",
       " 'liked_papers': [],\n",
       " 'total_words': {'dislike': 0, 'like': 0},\n",
       " 'vocabulary': {}}"
      ]
     },
     "execution_count": 3,
     "metadata": {},
     "output_type": "execute_result"
    }
   ],
   "source": [
    "personal_data = axs.read_personal_data()\n",
    "personal_data"
   ]
  },
  {
   "cell_type": "markdown",
   "metadata": {},
   "source": [
    "### Update Your Personal Data"
   ]
  },
  {
   "cell_type": "markdown",
   "metadata": {},
   "source": [
    "Suppose I like all the recent (ten) papers written by Polchinski. Then, by employing `axs.label`, I can append their arXiv_id into `axs.liked_papers` which has been initialized as `[]`. Doing so by hand in this case (I like all of them!) is dull. Instead, we can use `"
   ]
  },
  {
   "cell_type": "code",
   "execution_count": 4,
   "metadata": {
    "collapsed": false
   },
   "outputs": [
    {
     "name": "stdout",
     "output_type": "stream",
     "text": [
      "['1611.04650', '1609.04036', '1602.06422', '1601.06145', '1601.06768', '1512.02477', '1509.05710', '1501.06577', '1402.6334', '1402.6327']\n"
     ]
    }
   ],
   "source": [
    "liked = [entry.id for entry in axs.get_entries('au:Polchinski', [], 0, 10)]\n",
    "print(liked)"
   ]
  },
  {
   "cell_type": "code",
   "execution_count": 5,
   "metadata": {
    "collapsed": false
   },
   "outputs": [
    {
     "name": "stdout",
     "output_type": "stream",
     "text": [
      "['1611.04650', '1609.04036', '1602.06422', '1601.06145', '1601.06768', '1512.02477', '1509.05710', '1501.06577', '1402.6334', '1402.6327']\n",
      "[]\n"
     ]
    }
   ],
   "source": [
    "axs.label(liked, True)\n",
    "print(axs.liked_papers)\n",
    "print(axs.disliked_papers)"
   ]
  },
  {
   "cell_type": "markdown",
   "metadata": {},
   "source": [
    "Now I can update my information by `axs.update()`, which will update my personal data in `./personal_data` by `axs.liked_papers` and `axs.disliked_papers` just `label`ed."
   ]
  },
  {
   "cell_type": "code",
   "execution_count": 6,
   "metadata": {
    "collapsed": false
   },
   "outputs": [],
   "source": [
    "axs.update()"
   ]
  },
  {
   "cell_type": "markdown",
   "metadata": {},
   "source": [
    "Now, `./personal_data` is updated, as you can check."
   ]
  },
  {
   "cell_type": "code",
   "execution_count": 7,
   "metadata": {
    "collapsed": true
   },
   "outputs": [],
   "source": [
    "personal_data = axs.read_personal_data()"
   ]
  },
  {
   "cell_type": "markdown",
   "metadata": {},
   "source": [
    "## Read arXiv"
   ]
  },
  {
   "cell_type": "code",
   "execution_count": 8,
   "metadata": {
    "collapsed": false
   },
   "outputs": [
    {
     "name": "stdout",
     "output_type": "stream",
     "text": [
      "-------------------------\n",
      "Title:  What is the Magnetic Weak Gravity Conjecture for Axions?\n",
      "Authors:  Arthur Hebecker, Philipp Henkenjohann, Lukas T. Witkowski\n",
      "arXiv id:  1701.06553\n",
      "Summary:  The electric Weak Gravity Conjecture demands that axions with large decay\n",
      "constant $f$ couple to light instantons. The resulting large instantonic\n",
      "corrections pose problems for natural inflation. We explore an alternative\n",
      "argument based on the magnetic Weak Gravity Conjecture for axions, which we try\n",
      "to make more precise. Roughly speaking, it demands that the minimally charged\n",
      "string coupled to the dual 2-form-field exists in the effective theory. Most\n",
      "naively, such large-$f$ strings curve space too much to exist as static\n",
      "solutions, thus ruling out large-$f$ axions. More conservatively, one might\n",
      "allow non-static string solutions to play the role of the required charged\n",
      "objects. In this case, topological inflation would save the superplanckian\n",
      "axion. Furthermore, a large-$f$ axion may appear in the low-energy effective\n",
      "theory based on two subplanckian axions in the UV. The resulting effective\n",
      "string is a composite object built from several fundamental strings and domain\n",
      "walls. It may or may not satisfy the magnetic Weak Gravity Conjecture depending\n",
      "on how strictly the latter is interpreted and on the cosmological dynamics of\n",
      "this composite object, which remain to be fully understood. Finally, we recall\n",
      "that large-field brane inflation is naively possible in the codimension-one\n",
      "case. We show how string-theoretic back-reaction closes this apparent loophole\n",
      "of large-$f$ (non-periodic) pseudo-axions.\n",
      "-------------------------\n",
      "\n",
      "-------------------------\n",
      "Title:  Gravitational Coupling from Active Gravity\n",
      "Authors:  Tao Lei, Zi-Wei Chen, Zhen-Lai Wang, Xiang-Song Chen\n",
      "arXiv id:  1702.02921\n",
      "Summary:  We attempt to construct a gravitational coupling by pre-selecting an\n",
      "energy-momentum tensor as the source for gravitational field. The\n",
      "energy-momentum tensor we take is a recently derived new expression motivated\n",
      "by joint localization of energy and momentum in quantum measurement. This\n",
      "energy-momentum tensor differs from the traditional canonical and symmetric\n",
      "ones, and the theory we obtain is of an Einstein-Cartan type, but derived from\n",
      "a minimal coupling of a Lagrangian with second-derivative, and leads to\n",
      "additional interaction between torsion and matter, including the scalar field.\n",
      "For the scalar field, the theory can also be derived in the Riemann space-time\n",
      "by a non-minimal coupling. Our study gives hint on more general tests of\n",
      "general relativistic effects.\n",
      "-------------------------\n",
      "\n",
      "-------------------------\n",
      "Title:  Smoothing expansion rate data to reconstruct cosmological matter\n",
      "  perturbations\n",
      "Authors:  J. E. Gonzalez, J. S. Alcaniz, J. C. Carvalho\n",
      "arXiv id:  1702.02923\n",
      "Summary:  The existing degeneracy between different dark energy and modified gravity\n",
      "cosmologies at the background level may be broken by analysing quantities at\n",
      "the perturbative level. In this work, we apply a non-parametric smoothing (NPS)\n",
      "method to reconstruct the expansion history of the Universe ($H(z)$) from\n",
      "model-independent cosmic chronometers and high-$z$ quasar data. Assuming a\n",
      "homogeneous and isotropic flat universe and general relativity (GR) as the\n",
      "gravity theory, we calculate the non-relativistic matter perturbations in the\n",
      "linear regime using the $H(z)$ reconstruction and realistic values of\n",
      "$\\Omega_{m0}$ and $\\sigma_8$ from Planck and WMAP-9 collaborations. We find a\n",
      "good agreement between the measurements of the growth rate and $f\\sigma_8(z)$\n",
      "from current large-scale structure observations and the estimates obtained from\n",
      "the reconstruction of the cosmic expansion history. Considering a recently\n",
      "proposed null test for GR using matter perturbations, we also apply the NPS\n",
      "method to reconstruct $f\\sigma_8(z)$. For this case, we find a $\\sim 2\\sigma$\n",
      "tension (good agreement) with the standard relativistic cosmology when the\n",
      "Planck (WMAP-9) priors are used.\n",
      "-------------------------\n",
      "\n",
      "-------------------------\n",
      "Title:  Yang-Baxter $σ$-models, conformal twists & noncommutative\n",
      "  Yang-Mills\n",
      "Authors:  T. Araujo, I. Bakhmatov, E. Ó Colgáin, J. Sakamoto, M. M. Sheikh-Jabbari, K. Yoshida\n",
      "arXiv id:  1702.02861\n",
      "Summary:  The Yang-Baxter $\\sigma$-model is a systematic way to generate integrable\n",
      "deformations of AdS$_5\\times$S$^5$. We recast the deformations as seen by open\n",
      "strings, where the metric is undeformed AdS$_5\\times$S$^5$ with constant string\n",
      "coupling, and all information about the deformation is encoded in the\n",
      "noncommutative (NC) parameter $\\Theta$. We identify the deformations of AdS$_5$\n",
      "as twists of the conformal algebra, thus explaining the noncommutativity. We\n",
      "show that the unimodularity conditon on $r$-matrices for supergravity solutions\n",
      "translates into $\\Theta$ being divergence-free. Integrability of the\n",
      "$\\sigma$-model for unimodular $r$-matrices implies the existence and planar\n",
      "integrability of the dual NC gauge theory.\n",
      "-------------------------\n",
      "\n",
      "-------------------------\n",
      "Title:  Reissner-Nordstrøm-de Sitter Manifold : Photon Sphere and Maximal\n",
      "  Analytic Extension\n",
      "Authors:  Mokdad Mokdad\n",
      "arXiv id:  1701.06982\n",
      "Summary:  This paper is devoted to the study of the Reissner-Nordstr{\\o}m-de Sitter\n",
      "black holes and their maximal analytic extensions. In particular, we study some\n",
      "of their properties that lays the groundwork for separate papers where we\n",
      "obtain decay results and construct conformal scattering theories for test\n",
      "fields on such spacetimes. Here, we find the necessary and sufficient\n",
      "conditions on the parameters of the Reissner-Nordstr{\\o}m-de Sitter metric\n",
      "-namely, the mass, the charge, and the cosmological constant- to have three\n",
      "horizons. Under this conditions, we prove that there is only one photon sphere\n",
      "and we locate it. We then give a detailed construction of the maximal analytic\n",
      "extension of the Reissner-Nordstr{\\o}m-de Sitter manifold in the case of three\n",
      "horizons.\n",
      "-------------------------\n",
      "\n"
     ]
    }
   ],
   "source": [
    "axs.read_arxiv('cat:gr-qc', 0, 5)"
   ]
  },
  {
   "cell_type": "markdown",
   "metadata": {},
   "source": [
    "where in `axs.read_arxiv`, we have sorted the order of shown up papers by NB. Indeed, we can print out the un-sorted, by:"
   ]
  },
  {
   "cell_type": "code",
   "execution_count": 9,
   "metadata": {
    "collapsed": false
   },
   "outputs": [
    {
     "name": "stdout",
     "output_type": "stream",
     "text": [
      "-------------------------\n",
      "Title:  Smoothing expansion rate data to reconstruct cosmological matter\n",
      "  perturbations\n",
      "Authors:  J. E. Gonzalez, J. S. Alcaniz, J. C. Carvalho\n",
      "arXiv id:  1702.02923\n",
      "Summary:  The existing degeneracy between different dark energy and modified gravity\n",
      "cosmologies at the background level may be broken by analysing quantities at\n",
      "the perturbative level. In this work, we apply a non-parametric smoothing (NPS)\n",
      "method to reconstruct the expansion history of the Universe ($H(z)$) from\n",
      "model-independent cosmic chronometers and high-$z$ quasar data. Assuming a\n",
      "homogeneous and isotropic flat universe and general relativity (GR) as the\n",
      "gravity theory, we calculate the non-relativistic matter perturbations in the\n",
      "linear regime using the $H(z)$ reconstruction and realistic values of\n",
      "$\\Omega_{m0}$ and $\\sigma_8$ from Planck and WMAP-9 collaborations. We find a\n",
      "good agreement between the measurements of the growth rate and $f\\sigma_8(z)$\n",
      "from current large-scale structure observations and the estimates obtained from\n",
      "the reconstruction of the cosmic expansion history. Considering a recently\n",
      "proposed null test for GR using matter perturbations, we also apply the NPS\n",
      "method to reconstruct $f\\sigma_8(z)$. For this case, we find a $\\sim 2\\sigma$\n",
      "tension (good agreement) with the standard relativistic cosmology when the\n",
      "Planck (WMAP-9) priors are used.\n",
      "-------------------------\n",
      "\n",
      "-------------------------\n",
      "Title:  Gravitational Coupling from Active Gravity\n",
      "Authors:  Tao Lei, Zi-Wei Chen, Zhen-Lai Wang, Xiang-Song Chen\n",
      "arXiv id:  1702.02921\n",
      "Summary:  We attempt to construct a gravitational coupling by pre-selecting an\n",
      "energy-momentum tensor as the source for gravitational field. The\n",
      "energy-momentum tensor we take is a recently derived new expression motivated\n",
      "by joint localization of energy and momentum in quantum measurement. This\n",
      "energy-momentum tensor differs from the traditional canonical and symmetric\n",
      "ones, and the theory we obtain is of an Einstein-Cartan type, but derived from\n",
      "a minimal coupling of a Lagrangian with second-derivative, and leads to\n",
      "additional interaction between torsion and matter, including the scalar field.\n",
      "For the scalar field, the theory can also be derived in the Riemann space-time\n",
      "by a non-minimal coupling. Our study gives hint on more general tests of\n",
      "general relativistic effects.\n",
      "-------------------------\n",
      "\n",
      "-------------------------\n",
      "Title:  What is the Magnetic Weak Gravity Conjecture for Axions?\n",
      "Authors:  Arthur Hebecker, Philipp Henkenjohann, Lukas T. Witkowski\n",
      "arXiv id:  1701.06553\n",
      "Summary:  The electric Weak Gravity Conjecture demands that axions with large decay\n",
      "constant $f$ couple to light instantons. The resulting large instantonic\n",
      "corrections pose problems for natural inflation. We explore an alternative\n",
      "argument based on the magnetic Weak Gravity Conjecture for axions, which we try\n",
      "to make more precise. Roughly speaking, it demands that the minimally charged\n",
      "string coupled to the dual 2-form-field exists in the effective theory. Most\n",
      "naively, such large-$f$ strings curve space too much to exist as static\n",
      "solutions, thus ruling out large-$f$ axions. More conservatively, one might\n",
      "allow non-static string solutions to play the role of the required charged\n",
      "objects. In this case, topological inflation would save the superplanckian\n",
      "axion. Furthermore, a large-$f$ axion may appear in the low-energy effective\n",
      "theory based on two subplanckian axions in the UV. The resulting effective\n",
      "string is a composite object built from several fundamental strings and domain\n",
      "walls. It may or may not satisfy the magnetic Weak Gravity Conjecture depending\n",
      "on how strictly the latter is interpreted and on the cosmological dynamics of\n",
      "this composite object, which remain to be fully understood. Finally, we recall\n",
      "that large-field brane inflation is naively possible in the codimension-one\n",
      "case. We show how string-theoretic back-reaction closes this apparent loophole\n",
      "of large-$f$ (non-periodic) pseudo-axions.\n",
      "-------------------------\n",
      "\n",
      "-------------------------\n",
      "Title:  Reissner-Nordstrøm-de Sitter Manifold : Photon Sphere and Maximal\n",
      "  Analytic Extension\n",
      "Authors:  Mokdad Mokdad\n",
      "arXiv id:  1701.06982\n",
      "Summary:  This paper is devoted to the study of the Reissner-Nordstr{\\o}m-de Sitter\n",
      "black holes and their maximal analytic extensions. In particular, we study some\n",
      "of their properties that lays the groundwork for separate papers where we\n",
      "obtain decay results and construct conformal scattering theories for test\n",
      "fields on such spacetimes. Here, we find the necessary and sufficient\n",
      "conditions on the parameters of the Reissner-Nordstr{\\o}m-de Sitter metric\n",
      "-namely, the mass, the charge, and the cosmological constant- to have three\n",
      "horizons. Under this conditions, we prove that there is only one photon sphere\n",
      "and we locate it. We then give a detailed construction of the maximal analytic\n",
      "extension of the Reissner-Nordstr{\\o}m-de Sitter manifold in the case of three\n",
      "horizons.\n",
      "-------------------------\n",
      "\n",
      "-------------------------\n",
      "Title:  Yang-Baxter $σ$-models, conformal twists & noncommutative\n",
      "  Yang-Mills\n",
      "Authors:  T. Araujo, I. Bakhmatov, E. Ó Colgáin, J. Sakamoto, M. M. Sheikh-Jabbari, K. Yoshida\n",
      "arXiv id:  1702.02861\n",
      "Summary:  The Yang-Baxter $\\sigma$-model is a systematic way to generate integrable\n",
      "deformations of AdS$_5\\times$S$^5$. We recast the deformations as seen by open\n",
      "strings, where the metric is undeformed AdS$_5\\times$S$^5$ with constant string\n",
      "coupling, and all information about the deformation is encoded in the\n",
      "noncommutative (NC) parameter $\\Theta$. We identify the deformations of AdS$_5$\n",
      "as twists of the conformal algebra, thus explaining the noncommutativity. We\n",
      "show that the unimodularity conditon on $r$-matrices for supergravity solutions\n",
      "translates into $\\Theta$ being divergence-free. Integrability of the\n",
      "$\\sigma$-model for unimodular $r$-matrices implies the existence and planar\n",
      "integrability of the dual NC gauge theory.\n",
      "-------------------------\n",
      "\n"
     ]
    }
   ],
   "source": [
    "entries = axs.get_raw_entries('cat:gr-qc', [], 0, 5)\n",
    "for entry in entries:\n",
    "    axs.show_entry(entry)"
   ]
  }
 ],
 "metadata": {
  "kernelspec": {
   "display_name": "Python 3",
   "language": "python",
   "name": "python3"
  },
  "language_info": {
   "codemirror_mode": {
    "name": "ipython",
    "version": 3
   },
   "file_extension": ".py",
   "mimetype": "text/x-python",
   "name": "python",
   "nbconvert_exporter": "python",
   "pygments_lexer": "ipython3",
   "version": "3.6.0"
  }
 },
 "nbformat": 4,
 "nbformat_minor": 2
}
