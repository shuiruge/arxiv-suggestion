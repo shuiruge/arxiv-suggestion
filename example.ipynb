{
 "cells": [
  {
   "cell_type": "code",
   "execution_count": 1,
   "metadata": {
    "collapsed": false
   },
   "outputs": [],
   "source": [
    "import arxiv_suggestion as axs"
   ]
  },
  {
   "cell_type": "markdown",
   "metadata": {},
   "source": [
    "## Personal Data"
   ]
  },
  {
   "cell_type": "markdown",
   "metadata": {},
   "source": [
    "### Initialize Your Personal Data"
   ]
  },
  {
   "cell_type": "markdown",
   "metadata": {},
   "source": [
    "If you have used `arxiv_suggestion` and have well trained personal data, please skip this section. But, if this is your first time, you shall initialize your personal data, by"
   ]
  },
  {
   "cell_type": "code",
   "execution_count": 2,
   "metadata": {
    "collapsed": false
   },
   "outputs": [],
   "source": [
    "axs.personal_data = axs.initialize_personal_data()\n",
    "axs.write_personal_data()"
   ]
  },
  {
   "cell_type": "markdown",
   "metadata": {},
   "source": [
    "Now my personal_data has been initialized to be empty, as"
   ]
  },
  {
   "cell_type": "code",
   "execution_count": 3,
   "metadata": {
    "collapsed": false
   },
   "outputs": [
    {
     "data": {
      "text/plain": [
       "{'like_papers': {'False': [], 'True': []},\n",
       " 'total_words': {'False': 0, 'True': 0},\n",
       " 'vocabulary': {}}"
      ]
     },
     "execution_count": 3,
     "metadata": {},
     "output_type": "execute_result"
    }
   ],
   "source": [
    "personal_data = axs.read_personal_data()\n",
    "personal_data"
   ]
  },
  {
   "cell_type": "markdown",
   "metadata": {},
   "source": [
    "## Reading arXiv while Updating Your Personal Data"
   ]
  },
  {
   "cell_type": "markdown",
   "metadata": {},
   "source": [
    "`axs.read_arxiv` sorts papers in the order that the papers are regarded as interesting to you, suggested by NB. Your data is read from `./personal_data`. If you do be interested in it, type `y`; if not, type `n`; if you do not know, type `Enter`; and if you want to break, type `b`. In the end, it will update your personal data, but will not write your updated personal data into `./personal_data`."
   ]
  },
  {
   "cell_type": "code",
   "execution_count": 4,
   "metadata": {
    "collapsed": false
   },
   "outputs": [
    {
     "name": "stdout",
     "output_type": "stream",
     "text": [
      "Help on function read_arxiv in module arxiv_suggestion:\n",
      "\n",
      "read_arxiv(search_query, start=0, max_results=10)\n",
      "    Str * Int (=0) * Int (=10) -> None\n",
      "\n"
     ]
    }
   ],
   "source": [
    "help(axs.read_arxiv)"
   ]
  },
  {
   "cell_type": "markdown",
   "metadata": {},
   "source": [
    "Suppose you want to read the newest 3 papers in category \"gr-qc\", you shall set `search_query` as `cat:gr-qc`, demanded by arXiv API, `start` as `0`, and `max_results` as `3`. That is, `axs.read_arxiv('cat:gr-qc', 0, 3)`. Then, papers are shown one by one. In the end of each paper, you are to asked to label it as interesting or not, or just passing it. So,"
   ]
  },
  {
   "cell_type": "code",
   "execution_count": 5,
   "metadata": {
    "collapsed": true
   },
   "outputs": [
    {
     "name": "stdout",
     "output_type": "stream",
     "text": [
      "\n",
      "-------------------------\n",
      "Title:  Horizonless, singularity-free, compact shells satisfying NEC\n",
      "Authors:  Karthik H. Shankar\n",
      "Update Data:  2017-02-16T18:33:50Z\n",
      "Link:  http://arxiv.org/abs/1510.00851v2\n",
      "Summary:  Gravitational collapse singularities are undesirable, yet inevitable to a\n",
      "large extent in General Relativity. When matter satisfying null energy\n",
      "condition collapses to the extent a closed trapped surface is formed, a\n",
      "singularity is inevitable according to Penrose's singularity theorem. Since\n",
      "positive mass vacuum solutions are generally black holes with trapped surfaces\n",
      "inside the event horizon, matter cannot collapse to an arbitrarily small size\n",
      "without generating a singularity. However, in modified theories of gravity\n",
      "where positive mass vacuum solutions are naked singularities with no trapped\n",
      "surfaces, it is reasonable to expect that matter can collapse to an arbitrarily\n",
      "small size without generating a singularity. Here we examine this possibility\n",
      "in the context of a modified theory of gravity with torsion in an extra\n",
      "dimension. We study singularity-free static shell solutions to evaluate the\n",
      "validity of the null energy condition on the shell. We find that with\n",
      "sufficiently high pressure, matter can be collapsed to arbitrarily small size\n",
      "without violating the null energy condition and without producing a\n",
      "singularity.\n",
      "-------------------------\n",
      "Are you interested in this paper?\n",
      "(If yes, type y; else if no, type n; else type Enter. Type b for break.)y\n",
      "\n",
      "-------------------------\n",
      "Title:  Towards Strong Field Tests of Beyond Horndeski Gravity Theories\n",
      "Authors:  Jeremy Sakstein, Eugeny Babichev, Kazuya Koyama, David Langlois, Ryo Saito\n",
      "Update Data:  2017-02-16T18:30:32Z\n",
      "Link:  http://arxiv.org/abs/1612.04263v2\n",
      "Summary:  Theories of gravity in the beyond Horndeski class encompass a wide range of\n",
      "scalar-tensor theories that will be tested on cosmological scales over the\n",
      "coming decade. In this work, we investigate the possibility of testing them in\n",
      "the strong-field regime by looking at the properties of compact\n",
      "objects-neutron, hyperon, and quark stars-embedded in an asymptotically de\n",
      "Sitter space-time, for a specific subclass of theories. We extend previous\n",
      "works to include slow rotation and find a relation between the dimensionless\n",
      "moment of intertia, ($\\bar{I}=Ic^2/G_{\\rm N} M^3$), and the compactness,\n",
      "$\\cal{C}=G_{\\rm N} M/Rc^2$ (an $\\bar{I}$-$\\cal{C}$ relation), independent of\n",
      "the equation of state, that is reminiscent of but distinct from the general\n",
      "relativity prediction. Several of our equations of state contain hyperons and\n",
      "free quarks, allowing us to revisit the hyperon puzzle. We find that the\n",
      "maximum mass of hyperon stars can be larger than $2M_\\odot$ for small values of\n",
      "the beyond Horndeski parameter, thus providing a resolution of the hyperon\n",
      "puzzle based on modified gravity. Moreover, stable quark stars exist when\n",
      "hyperonic stars are unstable, which means that the phase transition from\n",
      "hyperon to quark stars is predicted just as in general relativity, albeit with\n",
      "larger quark star masses. Two important and potentially observable consequences\n",
      "of some of the theories we consider are the existence of neutron stars in a\n",
      "range of masses significantly higher than in GR, and $\\bar{I}$-$\\mathcal{C}$\n",
      "relations that differ from their GR counterparts. In the former case, we find\n",
      "objects that, if observed, could not be accounted for in GR because they\n",
      "violate the usual GR causality condition. We end by discussing several\n",
      "difficult technical issues that remain to be addressed in order to reach more\n",
      "realistic predictions that may be tested using gravitational wave searches or\n",
      "neutron star observations.\n",
      "-------------------------\n",
      "Are you interested in this paper?\n",
      "(If yes, type y; else if no, type n; else type Enter. Type b for break.)n\n",
      "\n",
      "-------------------------\n",
      "Title:  3D Simulation of Spindle Gravitational Collapse of a Collisionless\n",
      "  Particle System\n",
      "Authors:  Chul-Moon Yoo, Tomohiro Harada, Hirotada Okawa\n",
      "Update Data:  2017-02-16T18:13:24Z\n",
      "Link:  http://arxiv.org/abs/1611.07906v2\n",
      "Summary:  We simulate the spindle gravitational collapse of a collisionless particle\n",
      "system in a 3D numerical relativity code and compare the qualitative results\n",
      "with the old work done by Shapiro and Teukolsky(ST). The simulation starts from\n",
      "the prolate-shaped distribution of particles and a spindle collapse is\n",
      "observed. The peak value and its spatial position of curvature invariants are\n",
      "monitored during the time evolution. We find that the peak value of the\n",
      "Kretschmann invariant takes a maximum at some moment, when there is no apparent\n",
      "horizon, and its value is greater for a finer resolution, which is consistent\n",
      "with what is reported in ST. We also find a similar tendency for the Weyl\n",
      "curvature invariant. Therefore, our results lend support to the formation of a\n",
      "naked singularity as a result of the axially symmetric spindle collapse of a\n",
      "collisionless particle system in the limit of infinite resolution. However,\n",
      "unlike in ST, our code does not break down then but go well beyond.We find that\n",
      "the peak values of the curvature invariants start to gradually decrease with\n",
      "time for a certain period of time. Another notable difference from ST is that,\n",
      "in our case, the peak position of the Kretschmann curvature invariant is always\n",
      "inside the matter distribution.\n",
      "-------------------------\n",
      "Are you interested in this paper?\n",
      "(If yes, type y; else if no, type n; else type Enter. Type b for break.)\n"
     ]
    }
   ],
   "source": [
    "axs.read_arxiv('cat:gr-qc', 0, 3)"
   ]
  },
  {
   "cell_type": "markdown",
   "metadata": {},
   "source": [
    "Now, `axs.like_papers` labels your new interests."
   ]
  },
  {
   "cell_type": "code",
   "execution_count": 6,
   "metadata": {
    "collapsed": false
   },
   "outputs": [
    {
     "name": "stdout",
     "output_type": "stream",
     "text": [
      "{'True': ['1510.00851'], 'False': ['1612.04263']}\n"
     ]
    }
   ],
   "source": [
    "print(axs.like_papers)"
   ]
  },
  {
   "cell_type": "markdown",
   "metadata": {},
   "source": [
    "In addition, since your personal data has been updated by `axs.read_arxiv`, you will have"
   ]
  },
  {
   "cell_type": "code",
   "execution_count": 7,
   "metadata": {
    "collapsed": false,
    "scrolled": true
   },
   "outputs": [
    {
     "data": {
      "text/plain": [
       "{'False': ['1612.04263'], 'True': ['1510.00851']}"
      ]
     },
     "execution_count": 7,
     "metadata": {},
     "output_type": "execute_result"
    }
   ],
   "source": [
    "axs.personal_data['like_papers']"
   ]
  },
  {
   "cell_type": "markdown",
   "metadata": {},
   "source": [
    "Then we write the updated `personal_data` into `./personal_data` to update your training data."
   ]
  },
  {
   "cell_type": "code",
   "execution_count": 8,
   "metadata": {
    "collapsed": true
   },
   "outputs": [],
   "source": [
    "axs.write_personal_data()"
   ]
  },
  {
   "cell_type": "markdown",
   "metadata": {},
   "source": [
    "Then, we have"
   ]
  },
  {
   "cell_type": "code",
   "execution_count": 9,
   "metadata": {
    "collapsed": false
   },
   "outputs": [
    {
     "name": "stdout",
     "output_type": "stream",
     "text": [
      "\n",
      "-------------------------\n",
      "Title:  Horizonless, singularity-free, compact shells satisfying NEC\n",
      "Authors:  Karthik H. Shankar\n",
      "Update Data:  2017-02-16T18:33:50Z\n",
      "Link:  http://arxiv.org/abs/1510.00851v2\n",
      "Summary:  Gravitational collapse singularities are undesirable, yet inevitable to a\n",
      "large extent in General Relativity. When matter satisfying null energy\n",
      "condition collapses to the extent a closed trapped surface is formed, a\n",
      "singularity is inevitable according to Penrose's singularity theorem. Since\n",
      "positive mass vacuum solutions are generally black holes with trapped surfaces\n",
      "inside the event horizon, matter cannot collapse to an arbitrarily small size\n",
      "without generating a singularity. However, in modified theories of gravity\n",
      "where positive mass vacuum solutions are naked singularities with no trapped\n",
      "surfaces, it is reasonable to expect that matter can collapse to an arbitrarily\n",
      "small size without generating a singularity. Here we examine this possibility\n",
      "in the context of a modified theory of gravity with torsion in an extra\n",
      "dimension. We study singularity-free static shell solutions to evaluate the\n",
      "validity of the null energy condition on the shell. We find that with\n",
      "sufficiently high pressure, matter can be collapsed to arbitrarily small size\n",
      "without violating the null energy condition and without producing a\n",
      "singularity.\n",
      "-------------------------\n",
      "Are you interested in this paper?\n",
      "(If yes, type y; else if no, type n; else type Enter. Type b for break.)\n",
      "\n",
      "-------------------------\n",
      "Title:  3D Simulation of Spindle Gravitational Collapse of a Collisionless\n",
      "  Particle System\n",
      "Authors:  Chul-Moon Yoo, Tomohiro Harada, Hirotada Okawa\n",
      "Update Data:  2017-02-16T18:13:24Z\n",
      "Link:  http://arxiv.org/abs/1611.07906v2\n",
      "Summary:  We simulate the spindle gravitational collapse of a collisionless particle\n",
      "system in a 3D numerical relativity code and compare the qualitative results\n",
      "with the old work done by Shapiro and Teukolsky(ST). The simulation starts from\n",
      "the prolate-shaped distribution of particles and a spindle collapse is\n",
      "observed. The peak value and its spatial position of curvature invariants are\n",
      "monitored during the time evolution. We find that the peak value of the\n",
      "Kretschmann invariant takes a maximum at some moment, when there is no apparent\n",
      "horizon, and its value is greater for a finer resolution, which is consistent\n",
      "with what is reported in ST. We also find a similar tendency for the Weyl\n",
      "curvature invariant. Therefore, our results lend support to the formation of a\n",
      "naked singularity as a result of the axially symmetric spindle collapse of a\n",
      "collisionless particle system in the limit of infinite resolution. However,\n",
      "unlike in ST, our code does not break down then but go well beyond.We find that\n",
      "the peak values of the curvature invariants start to gradually decrease with\n",
      "time for a certain period of time. Another notable difference from ST is that,\n",
      "in our case, the peak position of the Kretschmann curvature invariant is always\n",
      "inside the matter distribution.\n",
      "-------------------------\n",
      "Are you interested in this paper?\n",
      "(If yes, type y; else if no, type n; else type Enter. Type b for break.)\n",
      "\n",
      "-------------------------\n",
      "Title:  A pseudo-Newtonian Hamiltonian for test motion in stationary space-times\n",
      "Authors:  Vojtech Witzany, Claus Laemmerzahl\n",
      "Update Data:  2017-02-16T17:51:16Z\n",
      "Link:  http://arxiv.org/abs/1601.01034v2\n",
      "Summary:  Pseudo-Newtonian potentials are a tool often used in theoretical astrophysics\n",
      "to capture some key features of a black-hole space-time in a Newtonian\n",
      "framework. As a result, one can use Newtonian numerical codes, and Newtonian\n",
      "formalism in general, in an effective description of important astrophysical\n",
      "processes such as accretion onto black holes.\n",
      "  In this paper we develop a general pseudo-Newtonian formalism which pertains\n",
      "to the motion of particles, light, and fluids in stationary space-times. In\n",
      "return, we are able to assess the applicability of the pseudo-Newtonian scheme.\n",
      "The simplest and most elegant formulas are obtained in space-times without\n",
      "gravitomagnetic effects, such as the Schwarzschild rather than the Kerr\n",
      "space-time; the quantitative errors are smallest for motion with low binding\n",
      "energy. Included is a ready-to-use set of fluid equations in Schwarzschild\n",
      "space-time in Cartesian coordinates.\n",
      "-------------------------\n",
      "Are you interested in this paper?\n",
      "(If yes, type y; else if no, type n; else type Enter. Type b for break.)\n",
      "\n",
      "-------------------------\n",
      "Title:  Impact of the latest measurement of Hubble constant on constraining\n",
      "  inflation models\n",
      "Authors:  Xin Zhang\n",
      "Update Data:  2017-02-16T15:28:37Z\n",
      "Link:  http://arxiv.org/abs/1702.05010v1\n",
      "Summary:  This is a Letter to the Editor of SCIENCE CHINA Physics, Mechanics &\n",
      "Astronomy.\n",
      "-------------------------\n",
      "Are you interested in this paper?\n",
      "(If yes, type y; else if no, type n; else type Enter. Type b for break.)\n",
      "\n",
      "-------------------------\n",
      "Title:  Towards Strong Field Tests of Beyond Horndeski Gravity Theories\n",
      "Authors:  Jeremy Sakstein, Eugeny Babichev, Kazuya Koyama, David Langlois, Ryo Saito\n",
      "Update Data:  2017-02-16T18:30:32Z\n",
      "Link:  http://arxiv.org/abs/1612.04263v2\n",
      "Summary:  Theories of gravity in the beyond Horndeski class encompass a wide range of\n",
      "scalar-tensor theories that will be tested on cosmological scales over the\n",
      "coming decade. In this work, we investigate the possibility of testing them in\n",
      "the strong-field regime by looking at the properties of compact\n",
      "objects-neutron, hyperon, and quark stars-embedded in an asymptotically de\n",
      "Sitter space-time, for a specific subclass of theories. We extend previous\n",
      "works to include slow rotation and find a relation between the dimensionless\n",
      "moment of intertia, ($\\bar{I}=Ic^2/G_{\\rm N} M^3$), and the compactness,\n",
      "$\\cal{C}=G_{\\rm N} M/Rc^2$ (an $\\bar{I}$-$\\cal{C}$ relation), independent of\n",
      "the equation of state, that is reminiscent of but distinct from the general\n",
      "relativity prediction. Several of our equations of state contain hyperons and\n",
      "free quarks, allowing us to revisit the hyperon puzzle. We find that the\n",
      "maximum mass of hyperon stars can be larger than $2M_\\odot$ for small values of\n",
      "the beyond Horndeski parameter, thus providing a resolution of the hyperon\n",
      "puzzle based on modified gravity. Moreover, stable quark stars exist when\n",
      "hyperonic stars are unstable, which means that the phase transition from\n",
      "hyperon to quark stars is predicted just as in general relativity, albeit with\n",
      "larger quark star masses. Two important and potentially observable consequences\n",
      "of some of the theories we consider are the existence of neutron stars in a\n",
      "range of masses significantly higher than in GR, and $\\bar{I}$-$\\mathcal{C}$\n",
      "relations that differ from their GR counterparts. In the former case, we find\n",
      "objects that, if observed, could not be accounted for in GR because they\n",
      "violate the usual GR causality condition. We end by discussing several\n",
      "difficult technical issues that remain to be addressed in order to reach more\n",
      "realistic predictions that may be tested using gravitational wave searches or\n",
      "neutron star observations.\n",
      "-------------------------\n",
      "Are you interested in this paper?\n",
      "(If yes, type y; else if no, type n; else type Enter. Type b for break.)\n"
     ]
    }
   ],
   "source": [
    "axs.read_arxiv('cat:gr-qc', 0, 5)"
   ]
  },
  {
   "cell_type": "markdown",
   "metadata": {},
   "source": [
    "Comparing with"
   ]
  },
  {
   "cell_type": "code",
   "execution_count": 10,
   "metadata": {
    "collapsed": false
   },
   "outputs": [
    {
     "data": {
      "text/plain": [
       "{'False': ['1612.04263'], 'True': ['1510.00851']}"
      ]
     },
     "execution_count": 10,
     "metadata": {},
     "output_type": "execute_result"
    }
   ],
   "source": [
    "axs.read_personal_data()['like_papers']"
   ]
  },
  {
   "cell_type": "markdown",
   "metadata": {},
   "source": [
    "we find that the one liked paper is shown in the top, while the one disliked paper is shown in the bottom, as it shall be."
   ]
  },
  {
   "cell_type": "markdown",
   "metadata": {},
   "source": [
    "### Update Your Personal Data in One Go"
   ]
  },
  {
   "cell_type": "markdown",
   "metadata": {},
   "source": [
    "You can update your personal training data in the above way. But, you can make it in one go. For instance, suppose you like all the recent (ten) papers written by Polchinski (as a big fan). Then, by employing `axs.label`, I can append their arXiv_id into `axs.liked_papers` which has been initialized as `[]`. Doing so by hand in this case (I like all of them!) is dull. Instead, you can use `"
   ]
  },
  {
   "cell_type": "code",
   "execution_count": 13,
   "metadata": {
    "collapsed": false
   },
   "outputs": [
    {
     "name": "stdout",
     "output_type": "stream",
     "text": [
      "['1611.04650', '1609.04036', '1602.06422', '1601.06145', '1601.06768', '1512.02477', '1509.05710', '1501.06577', '1402.6334', '1402.6327']\n"
     ]
    }
   ],
   "source": [
    "liked = [entry.id for entry in axs.get_entries('au:Polchinski', [], 0, 10)]\n",
    "print(liked)"
   ]
  },
  {
   "cell_type": "markdown",
   "metadata": {},
   "source": [
    "Then you can `label` them as liked, that is as `True`."
   ]
  },
  {
   "cell_type": "code",
   "execution_count": 14,
   "metadata": {
    "collapsed": false
   },
   "outputs": [
    {
     "name": "stdout",
     "output_type": "stream",
     "text": [
      "{'True': ['1510.00851', '1611.04650', '1609.04036', '1602.06422', '1601.06145', '1601.06768', '1512.02477', '1509.05710', '1501.06577', '1402.6334', '1402.6327'], 'False': ['1612.04263']}\n"
     ]
    }
   ],
   "source": [
    "axs.label(liked, True)\n",
    "print(axs.like_papers)"
   ]
  },
  {
   "cell_type": "markdown",
   "metadata": {},
   "source": [
    "Now you can update your personal data by `axs.update_personal_data()`, which will update your personal data by just `label`ed. And then write it into `./personal_data`."
   ]
  },
  {
   "cell_type": "code",
   "execution_count": 15,
   "metadata": {
    "collapsed": false
   },
   "outputs": [],
   "source": [
    "axs.update_personal_data()\n",
    "axs.write_personal_data()"
   ]
  },
  {
   "cell_type": "markdown",
   "metadata": {},
   "source": [
    "Now, `./personal_data` is updated, as you can check."
   ]
  },
  {
   "cell_type": "code",
   "execution_count": 16,
   "metadata": {
    "collapsed": false
   },
   "outputs": [
    {
     "name": "stdout",
     "output_type": "stream",
     "text": [
      "{'True': ['1510.00851', '1611.04650', '1609.04036', '1602.06422', '1601.06145', '1601.06768', '1512.02477', '1509.05710', '1501.06577', '1402.6334', '1402.6327'], 'False': ['1612.04263']}\n"
     ]
    }
   ],
   "source": [
    "personal_data = axs.read_personal_data()\n",
    "print(personal_data['like_papers'])"
   ]
  }
 ],
 "metadata": {
  "kernelspec": {
   "display_name": "Python 3",
   "language": "python",
   "name": "python3"
  },
  "language_info": {
   "codemirror_mode": {
    "name": "ipython",
    "version": 3
   },
   "file_extension": ".py",
   "mimetype": "text/x-python",
   "name": "python",
   "nbconvert_exporter": "python",
   "pygments_lexer": "ipython3",
   "version": "3.6.0"
  }
 },
 "nbformat": 4,
 "nbformat_minor": 2
}
