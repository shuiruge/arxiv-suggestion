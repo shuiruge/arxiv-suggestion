{
 "cells": [
  {
   "cell_type": "code",
   "execution_count": 1,
   "metadata": {
    "collapsed": false
   },
   "outputs": [],
   "source": [
    "import arxiv_suggestion as axs"
   ]
  },
  {
   "cell_type": "markdown",
   "metadata": {},
   "source": [
    "## Personal Data"
   ]
  },
  {
   "cell_type": "markdown",
   "metadata": {},
   "source": [
    "### Initialize Your Personal Data if You Have None"
   ]
  },
  {
   "cell_type": "code",
   "execution_count": 2,
   "metadata": {
    "collapsed": false
   },
   "outputs": [],
   "source": [
    "## Run this if your personal_data is empty.\n",
    "## But generally it's not.\n",
    "#\n",
    "personal_data = axs.initialize_personal_data()\n",
    "pd = open('personal_data', 'w')\n",
    "pd.write(str(personal_data))\n",
    "pd.close()"
   ]
  },
  {
   "cell_type": "markdown",
   "metadata": {},
   "source": [
    "Now my personal_data has been initialized to be empty."
   ]
  },
  {
   "cell_type": "code",
   "execution_count": 3,
   "metadata": {
    "collapsed": false
   },
   "outputs": [
    {
     "data": {
      "text/plain": [
       "{'like_papers': {'False': [], 'True': []},\n",
       " 'total_words': {'False': 0, 'True': 0},\n",
       " 'vocabulary': {}}"
      ]
     },
     "execution_count": 3,
     "metadata": {},
     "output_type": "execute_result"
    }
   ],
   "source": [
    "personal_data = axs.read_personal_data()\n",
    "personal_data"
   ]
  },
  {
   "cell_type": "markdown",
   "metadata": {},
   "source": [
    "### Update Your Personal Data"
   ]
  },
  {
   "cell_type": "markdown",
   "metadata": {},
   "source": [
    "Suppose I like all the recent (ten) papers written by Polchinski. Then, by employing `axs.label`, I can append their arXiv_id into `axs.liked_papers` which has been initialized as `[]`. Doing so by hand in this case (I like all of them!) is dull. Instead, we can use `"
   ]
  },
  {
   "cell_type": "code",
   "execution_count": 4,
   "metadata": {
    "collapsed": false
   },
   "outputs": [
    {
     "name": "stdout",
     "output_type": "stream",
     "text": [
      "['1611.04650', '1609.04036', '1602.06422', '1601.06145', '1601.06768', '1512.02477', '1509.05710', '1501.06577', '1402.6334', '1402.6327']\n"
     ]
    }
   ],
   "source": [
    "liked = [entry.id for entry in axs.get_entries('au:Polchinski', [], 0, 10)]\n",
    "print(liked)"
   ]
  },
  {
   "cell_type": "code",
   "execution_count": 5,
   "metadata": {
    "collapsed": false
   },
   "outputs": [
    {
     "name": "stdout",
     "output_type": "stream",
     "text": [
      "{'True': ['1611.04650', '1609.04036', '1602.06422', '1601.06145', '1601.06768', '1512.02477', '1509.05710', '1501.06577', '1402.6334', '1402.6327'], 'False': []}\n"
     ]
    }
   ],
   "source": [
    "axs.label(liked, True)\n",
    "print(axs.like_papers)"
   ]
  },
  {
   "cell_type": "markdown",
   "metadata": {},
   "source": [
    "Now I can update my information by `axs.update()`, which will update my personal data in `./personal_data` by `axs.liked_papers` and `axs.disliked_papers` just `label`ed."
   ]
  },
  {
   "cell_type": "code",
   "execution_count": 6,
   "metadata": {
    "collapsed": false
   },
   "outputs": [],
   "source": [
    "axs.update()"
   ]
  },
  {
   "cell_type": "markdown",
   "metadata": {},
   "source": [
    "Now, `./personal_data` is updated, as you can check."
   ]
  },
  {
   "cell_type": "code",
   "execution_count": 7,
   "metadata": {
    "collapsed": true
   },
   "outputs": [],
   "source": [
    "personal_data = axs.read_personal_data()\n",
    "#print(personal_data)"
   ]
  },
  {
   "cell_type": "markdown",
   "metadata": {},
   "source": [
    "## Read arXiv"
   ]
  },
  {
   "cell_type": "code",
   "execution_count": 8,
   "metadata": {
    "collapsed": false
   },
   "outputs": [
    {
     "name": "stdout",
     "output_type": "stream",
     "text": [
      "-------------------------\n",
      "Title:  Bayesian analysis of CCDM Models\n",
      "Authors:  J. F. Jesus, R. Valentim, F. Andrade-Oliveira\n",
      "arXiv id:  1612.04077\n",
      "Summary:  Creation of Cold Dark Matter (CCDM), in the context of Einstein Field\n",
      "Equations, leads to negative creation pressure, which can be used to explain\n",
      "the accelerated expansion of the Universe. In this work we tested six different\n",
      "spatially flat models for matter creation using statistical tools, at light of\n",
      "SN Ia data: Akaike Information Criterion (AIC), Bayesian Information Criterion\n",
      "(BIC) and Bayesian Evidence (BE). These approaches allow to compare models\n",
      "considering goodness of fit and number of free parameters, penalizing excess of\n",
      "complexity. We find that JO model is slightly favoured over LJO/$\\Lambda$CDM\n",
      "model, however, neither of these, nor $\\Gamma=3\\alpha H_0$ model can be\n",
      "discarded from the current analysis. Three other scenarios are discarded either\n",
      "from poor fitting, either from excess of free parameters.\n",
      "-------------------------\n",
      "\n",
      "-------------------------\n",
      "Title:  Loop-Quantum-Gravity Simplicity Constraint as Surface Defect in Complex\n",
      "  Chern-Simons Theory\n",
      "Authors:  Muxin Han, Zichang Huang\n",
      "arXiv id:  1702.03285\n",
      "Summary:  The simplicity constraint is studied in the context of 4d spinfoam models\n",
      "with cosmological constant. We find that the quantum simplicity constraint is\n",
      "realized as the 2d surface defect in SL(2,$\\mathbb{C}$) Chern-Simons theory in\n",
      "the construction of spinfoam amplitudes. By this realization of simplicity\n",
      "constraint in Chern-Simons theory, we are able to construct the new spinfoam\n",
      "amplitude with cosmological constant for arbitrary simplicial complex (with\n",
      "many 4-simplices). The semiclassical asymptotics of the amplitude is shown to\n",
      "reproduce correctly the 4-dimensional Einstein-Regge action with cosmological\n",
      "constant term.\n",
      "-------------------------\n",
      "\n",
      "-------------------------\n",
      "Title:  Bianchi-I cosmology from causal thermodynamics\n",
      "Authors:  Eduardo Bittencourt, Leandro G. Gomes, Renato Klippert\n",
      "arXiv id:  1610.00020\n",
      "Summary:  We investigate diagonal Bianchi-I spacetimes in the presence of viscous\n",
      "fluids by using the shear and the anisotropic pressure components as the basic\n",
      "variables, where the viscosity is driven by the (second-order) causal\n",
      "thermodynamics. A few exact solutions are presented, among which we mention the\n",
      "anisotropic versions of de Sitter/anti-de Sitter geometries as well as an\n",
      "asymptotically isotropic spacetime presenting an effective constant cosmic\n",
      "acceleration without any cosmological constant. The qualitative analysis of the\n",
      "solutions for barotropic fluids with linear equations of state suggests that\n",
      "the behaviour is quite general.\n",
      "-------------------------\n",
      "\n",
      "-------------------------\n",
      "Title:  Relativistic initial conditions for N-body simulations\n",
      "Authors:  Christian Fidler, Thomas Tram, Cornelius Rampf, Robert Crittenden, Kazuya Koyama, David Wands\n",
      "arXiv id:  1702.03221\n",
      "Summary:  Initial conditions for (Newtonian) cosmological N-body simulations are\n",
      "usually set by re-scaling the present-day power spectrum obtained from linear\n",
      "(relativistic) Boltzmann codes to the desired initial redshift of the\n",
      "simulation. This back-scaling method can account for the effect of\n",
      "inhomogeneous residual thermal radiation at early times, which is absent in the\n",
      "Newtonian simulations. We analyse this procedure from a fully relativistic\n",
      "perspective, employing the recently-proposed Newtonian motion gauge framework.\n",
      "We find that N-body simulations for $\\Lambda$CDM cosmology starting from\n",
      "back-scaled initial conditions can be self-consistently embedded in a\n",
      "relativistic space-time with first-order metric potentials calculated using a\n",
      "linear Boltzmann code. This space-time coincides with a simple \"N-body gauge\"\n",
      "for $z<50$ for all observable modes. Care must be taken, however, when\n",
      "simulating non-standard cosmologies. As an example, we analyse the back-scaling\n",
      "method in a cosmology with decaying dark matter, and show that metric\n",
      "perturbations become large at early times in the back-scaling approach,\n",
      "indicating a breakdown of the perturbative description. We propose a simpler\n",
      "forward approach in such cases.\n",
      "-------------------------\n",
      "\n",
      "-------------------------\n",
      "Title:  The effect of matter structure on the gravitational waveform\n",
      "Authors:  Camille Bonvin, Chiara Caprini, Riccardo Sturani, Nicola Tamanini\n",
      "arXiv id:  1609.08093\n",
      "Summary:  Third generation ground-based interferometers as well as the planned\n",
      "space-based interferometer LISA are expected to detect a plethora of\n",
      "gravitational wave signals from coalescing binaries at cosmological distance.\n",
      "The emitted gravitational waves propagate in the expanding universe through the\n",
      "inhomogeneous distribution of matter. Here we show that the acceleration of the\n",
      "universe and the peculiar acceleration of the binary with respect to the\n",
      "observer distort the gravitational chirp signal from the simplest General\n",
      "Relativity prediction beyond a mere time independent rescaling of the chirp\n",
      "mass, affecting intrinsic parameter estimations for the binaries visible by\n",
      "LISA. We find that the effect due to the peculiar acceleration can be much\n",
      "larger than the one due to the universe acceleration. Moreover, peculiar\n",
      "accelerations can introduce a bias in the estimation of parameters such as the\n",
      "time of coalescence and the individual masses of the binary. An error in the\n",
      "estimation of the arrival time will have an impact in the case of sources\n",
      "visible first by LISA and later by ground based interferometers.\n",
      "-------------------------\n",
      "\n"
     ]
    }
   ],
   "source": [
    "axs.read_arxiv('cat:gr-qc', 0, 5)"
   ]
  },
  {
   "cell_type": "markdown",
   "metadata": {},
   "source": [
    "where in `axs.read_arxiv`, we have sorted the order of shown up papers by NB. Indeed, we can print out the un-sorted, by:"
   ]
  },
  {
   "cell_type": "code",
   "execution_count": 10,
   "metadata": {
    "collapsed": false
   },
   "outputs": [
    {
     "name": "stdout",
     "output_type": "stream",
     "text": [
      "-------------------------\n",
      "Title:  Loop-Quantum-Gravity Simplicity Constraint as Surface Defect in Complex\n",
      "  Chern-Simons Theory\n",
      "Authors:  Muxin Han, Zichang Huang\n",
      "arXiv id:  1702.03285\n",
      "Summary:  The simplicity constraint is studied in the context of 4d spinfoam models\n",
      "with cosmological constant. We find that the quantum simplicity constraint is\n",
      "realized as the 2d surface defect in SL(2,$\\mathbb{C}$) Chern-Simons theory in\n",
      "the construction of spinfoam amplitudes. By this realization of simplicity\n",
      "constraint in Chern-Simons theory, we are able to construct the new spinfoam\n",
      "amplitude with cosmological constant for arbitrary simplicial complex (with\n",
      "many 4-simplices). The semiclassical asymptotics of the amplitude is shown to\n",
      "reproduce correctly the 4-dimensional Einstein-Regge action with cosmological\n",
      "constant term.\n",
      "-------------------------\n",
      "\n",
      "-------------------------\n",
      "Title:  Bayesian analysis of CCDM Models\n",
      "Authors:  J. F. Jesus, R. Valentim, F. Andrade-Oliveira\n",
      "arXiv id:  1612.04077\n",
      "Summary:  Creation of Cold Dark Matter (CCDM), in the context of Einstein Field\n",
      "Equations, leads to negative creation pressure, which can be used to explain\n",
      "the accelerated expansion of the Universe. In this work we tested six different\n",
      "spatially flat models for matter creation using statistical tools, at light of\n",
      "SN Ia data: Akaike Information Criterion (AIC), Bayesian Information Criterion\n",
      "(BIC) and Bayesian Evidence (BE). These approaches allow to compare models\n",
      "considering goodness of fit and number of free parameters, penalizing excess of\n",
      "complexity. We find that JO model is slightly favoured over LJO/$\\Lambda$CDM\n",
      "model, however, neither of these, nor $\\Gamma=3\\alpha H_0$ model can be\n",
      "discarded from the current analysis. Three other scenarios are discarded either\n",
      "from poor fitting, either from excess of free parameters.\n",
      "-------------------------\n",
      "\n",
      "-------------------------\n",
      "Title:  Relativistic initial conditions for N-body simulations\n",
      "Authors:  Christian Fidler, Thomas Tram, Cornelius Rampf, Robert Crittenden, Kazuya Koyama, David Wands\n",
      "arXiv id:  1702.03221\n",
      "Summary:  Initial conditions for (Newtonian) cosmological N-body simulations are\n",
      "usually set by re-scaling the present-day power spectrum obtained from linear\n",
      "(relativistic) Boltzmann codes to the desired initial redshift of the\n",
      "simulation. This back-scaling method can account for the effect of\n",
      "inhomogeneous residual thermal radiation at early times, which is absent in the\n",
      "Newtonian simulations. We analyse this procedure from a fully relativistic\n",
      "perspective, employing the recently-proposed Newtonian motion gauge framework.\n",
      "We find that N-body simulations for $\\Lambda$CDM cosmology starting from\n",
      "back-scaled initial conditions can be self-consistently embedded in a\n",
      "relativistic space-time with first-order metric potentials calculated using a\n",
      "linear Boltzmann code. This space-time coincides with a simple \"N-body gauge\"\n",
      "for $z<50$ for all observable modes. Care must be taken, however, when\n",
      "simulating non-standard cosmologies. As an example, we analyse the back-scaling\n",
      "method in a cosmology with decaying dark matter, and show that metric\n",
      "perturbations become large at early times in the back-scaling approach,\n",
      "indicating a breakdown of the perturbative description. We propose a simpler\n",
      "forward approach in such cases.\n",
      "-------------------------\n",
      "\n",
      "-------------------------\n",
      "Title:  Bianchi-I cosmology from causal thermodynamics\n",
      "Authors:  Eduardo Bittencourt, Leandro G. Gomes, Renato Klippert\n",
      "arXiv id:  1610.00020\n",
      "Summary:  We investigate diagonal Bianchi-I spacetimes in the presence of viscous\n",
      "fluids by using the shear and the anisotropic pressure components as the basic\n",
      "variables, where the viscosity is driven by the (second-order) causal\n",
      "thermodynamics. A few exact solutions are presented, among which we mention the\n",
      "anisotropic versions of de Sitter/anti-de Sitter geometries as well as an\n",
      "asymptotically isotropic spacetime presenting an effective constant cosmic\n",
      "acceleration without any cosmological constant. The qualitative analysis of the\n",
      "solutions for barotropic fluids with linear equations of state suggests that\n",
      "the behaviour is quite general.\n",
      "-------------------------\n",
      "\n",
      "-------------------------\n",
      "Title:  The effect of matter structure on the gravitational waveform\n",
      "Authors:  Camille Bonvin, Chiara Caprini, Riccardo Sturani, Nicola Tamanini\n",
      "arXiv id:  1609.08093\n",
      "Summary:  Third generation ground-based interferometers as well as the planned\n",
      "space-based interferometer LISA are expected to detect a plethora of\n",
      "gravitational wave signals from coalescing binaries at cosmological distance.\n",
      "The emitted gravitational waves propagate in the expanding universe through the\n",
      "inhomogeneous distribution of matter. Here we show that the acceleration of the\n",
      "universe and the peculiar acceleration of the binary with respect to the\n",
      "observer distort the gravitational chirp signal from the simplest General\n",
      "Relativity prediction beyond a mere time independent rescaling of the chirp\n",
      "mass, affecting intrinsic parameter estimations for the binaries visible by\n",
      "LISA. We find that the effect due to the peculiar acceleration can be much\n",
      "larger than the one due to the universe acceleration. Moreover, peculiar\n",
      "accelerations can introduce a bias in the estimation of parameters such as the\n",
      "time of coalescence and the individual masses of the binary. An error in the\n",
      "estimation of the arrival time will have an impact in the case of sources\n",
      "visible first by LISA and later by ground based interferometers.\n",
      "-------------------------\n",
      "\n"
     ]
    }
   ],
   "source": [
    "entries = axs.get_entries('cat:gr-qc', [], 0, 5)\n",
    "for entry in entries:\n",
    "    axs.show_entry(entry)"
   ]
  }
 ],
 "metadata": {
  "kernelspec": {
   "display_name": "Python 3",
   "language": "python",
   "name": "python3"
  },
  "language_info": {
   "codemirror_mode": {
    "name": "ipython",
    "version": 3
   },
   "file_extension": ".py",
   "mimetype": "text/x-python",
   "name": "python",
   "nbconvert_exporter": "python",
   "pygments_lexer": "ipython3",
   "version": "3.6.0"
  }
 },
 "nbformat": 4,
 "nbformat_minor": 2
}
