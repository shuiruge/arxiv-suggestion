{
 "cells": [
  {
   "cell_type": "code",
   "execution_count": 1,
   "metadata": {
    "collapsed": false
   },
   "outputs": [],
   "source": [
    "import arxiv_suggestion as axs"
   ]
  },
  {
   "cell_type": "markdown",
   "metadata": {},
   "source": [
    "## Personal Data"
   ]
  },
  {
   "cell_type": "markdown",
   "metadata": {},
   "source": [
    "### Initialize Your Personal Data if You Have None"
   ]
  },
  {
   "cell_type": "code",
   "execution_count": 2,
   "metadata": {
    "collapsed": false
   },
   "outputs": [],
   "source": [
    "## Run this if your personal_data is empty.\n",
    "## But generally it's not.\n",
    "#\n",
    "personal_data = axs.initialize_personal_data()\n",
    "f = open('./personal_data', 'w')\n",
    "f.write(str(personal_data))\n",
    "f.close()\n",
    "#axs.write_personal_data()"
   ]
  },
  {
   "cell_type": "markdown",
   "metadata": {},
   "source": [
    "Now my personal_data has been initialized to be empty."
   ]
  },
  {
   "cell_type": "code",
   "execution_count": 3,
   "metadata": {
    "collapsed": false
   },
   "outputs": [
    {
     "data": {
      "text/plain": [
       "{'like_papers': {'False': [], 'True': []},\n",
       " 'total_words': {'False': 0, 'True': 0},\n",
       " 'vocabulary': {}}"
      ]
     },
     "execution_count": 3,
     "metadata": {},
     "output_type": "execute_result"
    }
   ],
   "source": [
    "personal_data = axs.read_personal_data()\n",
    "personal_data"
   ]
  },
  {
   "cell_type": "markdown",
   "metadata": {},
   "source": [
    "## Reading arXiv while Updating Your Personal Data"
   ]
  },
  {
   "cell_type": "markdown",
   "metadata": {},
   "source": [
    "By `axs.read_arxiv`, papers are sorted in the order that the papers are regarded as interesting to you, suggested by NB. Your data is read from `./personal_data`. If you do be interested in it, type `y`; if not, type `n`; if you do not know, type `Enter`; and if you want to break, type `b`. In the end, it will update your personal data, but not write your updated personal data into `./personal_data`."
   ]
  },
  {
   "cell_type": "code",
   "execution_count": 4,
   "metadata": {
    "collapsed": false
   },
   "outputs": [
    {
     "name": "stdout",
     "output_type": "stream",
     "text": [
      "Help on function read_arxiv in module arxiv_suggestion:\n",
      "\n",
      "read_arxiv(search_query, start=0, max_results=10)\n",
      "    Str * Int (=0) * Int (=10) -> None\n",
      "\n"
     ]
    }
   ],
   "source": [
    "help(axs.read_arxiv)"
   ]
  },
  {
   "cell_type": "code",
   "execution_count": 5,
   "metadata": {
    "collapsed": false
   },
   "outputs": [
    {
     "name": "stdout",
     "output_type": "stream",
     "text": [
      "-------------------------\n",
      "Title:  Quantum groups and noncommutative spacetimes with cosmological constant\n",
      "Authors:  A. Ballesteros, I. Gutiérrez-Sagredo, F. J. Herranz, C. Meusburger, P. Naranjo\n",
      "arXiv id:  1702.04704\n",
      "Summary:  Noncommutative spacetimes are widely believed to model some properties of the\n",
      "quantum structure of spacetime at the Planck regime. In this contribution the\n",
      "construction of (anti-)de Sitter noncommutative spacetimes obtained through\n",
      "quantum groups is reviewed. In this approach the quantum deformation parameter\n",
      "$z$ is related to a Planck scale, and the cosmological constant $\\Lambda$ plays\n",
      "the role of a second deformation parameter of geometric nature, whose limit\n",
      "$\\Lambda\\to 0$ provides the corresponding noncommutative Minkowski spacetimes.\n",
      "-------------------------\n",
      "\n",
      "Are you interested in this paper?\n",
      "-------------------------\n",
      "Title:  A geometrical assessment of spinorial energy conditions\n",
      "Authors:  Luca Fabbri\n",
      "arXiv id:  1702.04687\n",
      "Summary:  We consider the problem of energy for spinor fields coupled to their\n",
      "surrounding curved-twisted space-time, and we show that when treated\n",
      "geometrically we cannot even be certain that there is a problem for the energy\n",
      "in the first place.\n",
      "-------------------------\n",
      "\n",
      "Are you interested in this paper?\n",
      "-------------------------\n",
      "Title:  Quintic quasi-topological gravity\n",
      "Authors:  Adolfo Cisterna, Luis Guajardo, Mokhtar Hassaine, Julio Oliva\n",
      "arXiv id:  1702.04676\n",
      "Summary:  We construct a quintic quasi-topological gravity in five dimensions, i.e. a\n",
      "theory with a Lagrangian containing $\\mathcal{R}^5$ terms and whose field\n",
      "equations are of second order on spherically (hyperbolic or planar) symmetric\n",
      "spacetimes. These theories have recently received attention since when\n",
      "formulated on asymptotically AdS spacetimes might provide for gravity duals of\n",
      "a broad class of CFTs. For simplicity we focus on five dimensions. We show that\n",
      "this theory fulfils a Birkhoff's Theorem as it is the case in Lovelock gravity\n",
      "and therefore, for generic values of the couplings, there is no s-wave\n",
      "propagating mode. We prove that the spherically symmetric solution is\n",
      "determined by a quintic algebraic polynomial equation which resembles Wheeler's\n",
      "polynomial of Lovelock gravity. For the black hole solutions we compute the\n",
      "temperature, mass and entropy and show that the first law of black holes\n",
      "thermodynamics is fulfilled. Besides of being of fourth order in general, we\n",
      "show that the field equations, when linearized around AdS are of second order,\n",
      "and therefore the theory does not propagate ghosts around this background.\n",
      "Besides the class of theories originally introduced in arXiv:1003.4773 [gr-qc],\n",
      "the general geometric structure of these Lagrangians remains an open problem.\n",
      "-------------------------\n",
      "\n",
      "Are you interested in this paper?n\n",
      "-------------------------\n",
      "Title:  Type-III and IV interacting Weyl points\n",
      "Authors:  J. Nissinen, G. E. Volovik\n",
      "arXiv id:  1702.04624\n",
      "Summary:  3+1-dimensional Weyl fermions in interacting systems are described by\n",
      "effective quasi-relativistic Green's functions parametrized by a 16 element\n",
      "matrix $e^\\mu_\\alpha$ in an expansion around the Weyl point. The matrix\n",
      "$e^{\\mu}_{\\alpha}$ can be naturally identified as an effective tetrad field for\n",
      "the fermions. The correspondence between the tetrad field and an effective\n",
      "quasi-relativistic metric $g_{\\mu\\nu}$ governing the Weyl fermions allows for\n",
      "the possibility to simulate different classes of metric fields emerging in\n",
      "general relativity in interacting Weyl semimetals. According to this\n",
      "correspondence, there can be four types of Weyl fermions, depending on the\n",
      "signs of the components $g^{00}$ and $g_{00}$ of the effective metric. In\n",
      "addition to the conventional type-I fermions with a tilted Weyl cone and\n",
      "type-II fermions with an overtilted Weyl cone for $g^{00}>0$ and respectively\n",
      "$g_{00}>0$ or $g_{00}<0$, we find additional \"type-III\" and \"type-IV\" Weyl\n",
      "fermions with instabilities (complex frequencies) for $g^{00}<0$ and $g_{00}>0$\n",
      "or $g_{00}<0$, respectively. While the type-I and type-II Weyl points allow us\n",
      "to simulate the black hole event horizon at an interface where $g^{00}$ changes\n",
      "sign, the type-III Weyl point leads to effective spacetimes with closed\n",
      "timelike curves.\n",
      "-------------------------\n",
      "\n",
      "Are you interested in this paper?y\n",
      "-------------------------\n",
      "Title:  On New Proposal for Holographic BCFT\n",
      "Authors:  Chong-Sun Chu, Rong-Xin Miao, Wu-Zhong Guo\n",
      "arXiv id:  1701.07202\n",
      "Summary:  This paper is an extended version of our short letter on a new proposal for\n",
      "holographic boundary conformal field, i.e., BCFT. By using the\n",
      "Penrose-Brown-Henneaux (PBH) transformation, we successfully obtain the\n",
      "expected boundary Weyl anomaly. The obtained boundary central charges satisfy\n",
      "naturally a c-like theorem holographically. We then develop an approach of\n",
      "holographic renormalization for BCFT, and reproduce the correct boundary Weyl\n",
      "anomaly. This provides a non-trivial check of our proposal. We also investigate\n",
      "the holographic entanglement entropy of BCFT and find that our proposal gives\n",
      "the expected orthogonal condition that the minimal surface must be normal to\n",
      "the spacetime boundaries if they intersect. This is another support for our\n",
      "proposal. We also find that the entanglement entropy depends on the boundary\n",
      "conditions of BCFT and the distance to the boundary; and that the entanglement\n",
      "wedge behaves a phase transition, which is important for the self-consistency\n",
      "of AdS/BCFT. Finally, we show that the proposal of arXiv:1105.5165 is too\n",
      "restrictive that it always make vanishing some of the boundary central charges.\n",
      "-------------------------\n",
      "\n",
      "Are you interested in this paper?y\n"
     ]
    }
   ],
   "source": [
    "axs.read_arxiv('cat:gr-qc', 0, 5)"
   ]
  },
  {
   "cell_type": "code",
   "execution_count": 6,
   "metadata": {
    "collapsed": false
   },
   "outputs": [
    {
     "name": "stdout",
     "output_type": "stream",
     "text": [
      "{'True': ['1702.04624', '1701.07202'], 'False': ['1702.04676']}\n"
     ]
    }
   ],
   "source": [
    "print(axs.like_papers)"
   ]
  },
  {
   "cell_type": "markdown",
   "metadata": {},
   "source": [
    "and"
   ]
  },
  {
   "cell_type": "code",
   "execution_count": 7,
   "metadata": {
    "collapsed": false,
    "scrolled": true
   },
   "outputs": [
    {
     "data": {
      "text/plain": [
       "{'False': ['1702.04676'], 'True': ['1702.04624', '1701.07202']}"
      ]
     },
     "execution_count": 7,
     "metadata": {},
     "output_type": "execute_result"
    }
   ],
   "source": [
    "axs.personal_data['like_papers']"
   ]
  },
  {
   "cell_type": "markdown",
   "metadata": {},
   "source": [
    "Then we write the updated `personal_data` into `./personal_data`."
   ]
  },
  {
   "cell_type": "code",
   "execution_count": 8,
   "metadata": {
    "collapsed": true
   },
   "outputs": [],
   "source": [
    "axs.write_personal_data()"
   ]
  },
  {
   "cell_type": "markdown",
   "metadata": {},
   "source": [
    "Then, we have"
   ]
  },
  {
   "cell_type": "code",
   "execution_count": 9,
   "metadata": {
    "collapsed": false
   },
   "outputs": [
    {
     "name": "stdout",
     "output_type": "stream",
     "text": [
      "-------------------------\n",
      "Title:  Type-III and IV interacting Weyl points\n",
      "Authors:  J. Nissinen, G. E. Volovik\n",
      "arXiv id:  1702.04624\n",
      "Summary:  3+1-dimensional Weyl fermions in interacting systems are described by\n",
      "effective quasi-relativistic Green's functions parametrized by a 16 element\n",
      "matrix $e^\\mu_\\alpha$ in an expansion around the Weyl point. The matrix\n",
      "$e^{\\mu}_{\\alpha}$ can be naturally identified as an effective tetrad field for\n",
      "the fermions. The correspondence between the tetrad field and an effective\n",
      "quasi-relativistic metric $g_{\\mu\\nu}$ governing the Weyl fermions allows for\n",
      "the possibility to simulate different classes of metric fields emerging in\n",
      "general relativity in interacting Weyl semimetals. According to this\n",
      "correspondence, there can be four types of Weyl fermions, depending on the\n",
      "signs of the components $g^{00}$ and $g_{00}$ of the effective metric. In\n",
      "addition to the conventional type-I fermions with a tilted Weyl cone and\n",
      "type-II fermions with an overtilted Weyl cone for $g^{00}>0$ and respectively\n",
      "$g_{00}>0$ or $g_{00}<0$, we find additional \"type-III\" and \"type-IV\" Weyl\n",
      "fermions with instabilities (complex frequencies) for $g^{00}<0$ and $g_{00}>0$\n",
      "or $g_{00}<0$, respectively. While the type-I and type-II Weyl points allow us\n",
      "to simulate the black hole event horizon at an interface where $g^{00}$ changes\n",
      "sign, the type-III Weyl point leads to effective spacetimes with closed\n",
      "timelike curves.\n",
      "-------------------------\n",
      "\n",
      "Are you interested in this paper?\n",
      "-------------------------\n",
      "Title:  On New Proposal for Holographic BCFT\n",
      "Authors:  Chong-Sun Chu, Rong-Xin Miao, Wu-Zhong Guo\n",
      "arXiv id:  1701.07202\n",
      "Summary:  This paper is an extended version of our short letter on a new proposal for\n",
      "holographic boundary conformal field, i.e., BCFT. By using the\n",
      "Penrose-Brown-Henneaux (PBH) transformation, we successfully obtain the\n",
      "expected boundary Weyl anomaly. The obtained boundary central charges satisfy\n",
      "naturally a c-like theorem holographically. We then develop an approach of\n",
      "holographic renormalization for BCFT, and reproduce the correct boundary Weyl\n",
      "anomaly. This provides a non-trivial check of our proposal. We also investigate\n",
      "the holographic entanglement entropy of BCFT and find that our proposal gives\n",
      "the expected orthogonal condition that the minimal surface must be normal to\n",
      "the spacetime boundaries if they intersect. This is another support for our\n",
      "proposal. We also find that the entanglement entropy depends on the boundary\n",
      "conditions of BCFT and the distance to the boundary; and that the entanglement\n",
      "wedge behaves a phase transition, which is important for the self-consistency\n",
      "of AdS/BCFT. Finally, we show that the proposal of arXiv:1105.5165 is too\n",
      "restrictive that it always make vanishing some of the boundary central charges.\n",
      "-------------------------\n",
      "\n",
      "Are you interested in this paper?\n",
      "-------------------------\n",
      "Title:  A geometrical assessment of spinorial energy conditions\n",
      "Authors:  Luca Fabbri\n",
      "arXiv id:  1702.04687\n",
      "Summary:  We consider the problem of energy for spinor fields coupled to their\n",
      "surrounding curved-twisted space-time, and we show that when treated\n",
      "geometrically we cannot even be certain that there is a problem for the energy\n",
      "in the first place.\n",
      "-------------------------\n",
      "\n",
      "Are you interested in this paper?\n",
      "-------------------------\n",
      "Title:  Quantum groups and noncommutative spacetimes with cosmological constant\n",
      "Authors:  A. Ballesteros, I. Gutiérrez-Sagredo, F. J. Herranz, C. Meusburger, P. Naranjo\n",
      "arXiv id:  1702.04704\n",
      "Summary:  Noncommutative spacetimes are widely believed to model some properties of the\n",
      "quantum structure of spacetime at the Planck regime. In this contribution the\n",
      "construction of (anti-)de Sitter noncommutative spacetimes obtained through\n",
      "quantum groups is reviewed. In this approach the quantum deformation parameter\n",
      "$z$ is related to a Planck scale, and the cosmological constant $\\Lambda$ plays\n",
      "the role of a second deformation parameter of geometric nature, whose limit\n",
      "$\\Lambda\\to 0$ provides the corresponding noncommutative Minkowski spacetimes.\n",
      "-------------------------\n",
      "\n",
      "Are you interested in this paper?\n",
      "-------------------------\n",
      "Title:  Quintic quasi-topological gravity\n",
      "Authors:  Adolfo Cisterna, Luis Guajardo, Mokhtar Hassaine, Julio Oliva\n",
      "arXiv id:  1702.04676\n",
      "Summary:  We construct a quintic quasi-topological gravity in five dimensions, i.e. a\n",
      "theory with a Lagrangian containing $\\mathcal{R}^5$ terms and whose field\n",
      "equations are of second order on spherically (hyperbolic or planar) symmetric\n",
      "spacetimes. These theories have recently received attention since when\n",
      "formulated on asymptotically AdS spacetimes might provide for gravity duals of\n",
      "a broad class of CFTs. For simplicity we focus on five dimensions. We show that\n",
      "this theory fulfils a Birkhoff's Theorem as it is the case in Lovelock gravity\n",
      "and therefore, for generic values of the couplings, there is no s-wave\n",
      "propagating mode. We prove that the spherically symmetric solution is\n",
      "determined by a quintic algebraic polynomial equation which resembles Wheeler's\n",
      "polynomial of Lovelock gravity. For the black hole solutions we compute the\n",
      "temperature, mass and entropy and show that the first law of black holes\n",
      "thermodynamics is fulfilled. Besides of being of fourth order in general, we\n",
      "show that the field equations, when linearized around AdS are of second order,\n",
      "and therefore the theory does not propagate ghosts around this background.\n",
      "Besides the class of theories originally introduced in arXiv:1003.4773 [gr-qc],\n",
      "the general geometric structure of these Lagrangians remains an open problem.\n",
      "-------------------------\n",
      "\n",
      "Are you interested in this paper?\n"
     ]
    }
   ],
   "source": [
    "axs.read_arxiv('cat:gr-qc', 0, 5)"
   ]
  },
  {
   "cell_type": "markdown",
   "metadata": {},
   "source": [
    "Comparing with"
   ]
  },
  {
   "cell_type": "code",
   "execution_count": 10,
   "metadata": {
    "collapsed": false
   },
   "outputs": [
    {
     "data": {
      "text/plain": [
       "{'False': ['1702.04676'], 'True': ['1702.04624', '1701.07202']}"
      ]
     },
     "execution_count": 10,
     "metadata": {},
     "output_type": "execute_result"
    }
   ],
   "source": [
    "axs.read_personal_data()['like_papers']"
   ]
  },
  {
   "cell_type": "markdown",
   "metadata": {},
   "source": [
    "we find that the two liked papers are shown in the top, while the one disliked paper is shown in the bottom, as it shall be."
   ]
  },
  {
   "cell_type": "markdown",
   "metadata": {},
   "source": [
    "We can print out the un-sorted papers, by:"
   ]
  },
  {
   "cell_type": "code",
   "execution_count": 11,
   "metadata": {
    "collapsed": false
   },
   "outputs": [
    {
     "name": "stdout",
     "output_type": "stream",
     "text": [
      "-------------------------\n",
      "Title:  Quantum groups and noncommutative spacetimes with cosmological constant\n",
      "Authors:  A. Ballesteros, I. Gutiérrez-Sagredo, F. J. Herranz, C. Meusburger, P. Naranjo\n",
      "arXiv id:  1702.04704\n",
      "Summary:  Noncommutative spacetimes are widely believed to model some properties of the\n",
      "quantum structure of spacetime at the Planck regime. In this contribution the\n",
      "construction of (anti-)de Sitter noncommutative spacetimes obtained through\n",
      "quantum groups is reviewed. In this approach the quantum deformation parameter\n",
      "$z$ is related to a Planck scale, and the cosmological constant $\\Lambda$ plays\n",
      "the role of a second deformation parameter of geometric nature, whose limit\n",
      "$\\Lambda\\to 0$ provides the corresponding noncommutative Minkowski spacetimes.\n",
      "-------------------------\n",
      "\n",
      "-------------------------\n",
      "Title:  A geometrical assessment of spinorial energy conditions\n",
      "Authors:  Luca Fabbri\n",
      "arXiv id:  1702.04687\n",
      "Summary:  We consider the problem of energy for spinor fields coupled to their\n",
      "surrounding curved-twisted space-time, and we show that when treated\n",
      "geometrically we cannot even be certain that there is a problem for the energy\n",
      "in the first place.\n",
      "-------------------------\n",
      "\n",
      "-------------------------\n",
      "Title:  Quintic quasi-topological gravity\n",
      "Authors:  Adolfo Cisterna, Luis Guajardo, Mokhtar Hassaine, Julio Oliva\n",
      "arXiv id:  1702.04676\n",
      "Summary:  We construct a quintic quasi-topological gravity in five dimensions, i.e. a\n",
      "theory with a Lagrangian containing $\\mathcal{R}^5$ terms and whose field\n",
      "equations are of second order on spherically (hyperbolic or planar) symmetric\n",
      "spacetimes. These theories have recently received attention since when\n",
      "formulated on asymptotically AdS spacetimes might provide for gravity duals of\n",
      "a broad class of CFTs. For simplicity we focus on five dimensions. We show that\n",
      "this theory fulfils a Birkhoff's Theorem as it is the case in Lovelock gravity\n",
      "and therefore, for generic values of the couplings, there is no s-wave\n",
      "propagating mode. We prove that the spherically symmetric solution is\n",
      "determined by a quintic algebraic polynomial equation which resembles Wheeler's\n",
      "polynomial of Lovelock gravity. For the black hole solutions we compute the\n",
      "temperature, mass and entropy and show that the first law of black holes\n",
      "thermodynamics is fulfilled. Besides of being of fourth order in general, we\n",
      "show that the field equations, when linearized around AdS are of second order,\n",
      "and therefore the theory does not propagate ghosts around this background.\n",
      "Besides the class of theories originally introduced in arXiv:1003.4773 [gr-qc],\n",
      "the general geometric structure of these Lagrangians remains an open problem.\n",
      "-------------------------\n",
      "\n",
      "-------------------------\n",
      "Title:  Type-III and IV interacting Weyl points\n",
      "Authors:  J. Nissinen, G. E. Volovik\n",
      "arXiv id:  1702.04624\n",
      "Summary:  3+1-dimensional Weyl fermions in interacting systems are described by\n",
      "effective quasi-relativistic Green's functions parametrized by a 16 element\n",
      "matrix $e^\\mu_\\alpha$ in an expansion around the Weyl point. The matrix\n",
      "$e^{\\mu}_{\\alpha}$ can be naturally identified as an effective tetrad field for\n",
      "the fermions. The correspondence between the tetrad field and an effective\n",
      "quasi-relativistic metric $g_{\\mu\\nu}$ governing the Weyl fermions allows for\n",
      "the possibility to simulate different classes of metric fields emerging in\n",
      "general relativity in interacting Weyl semimetals. According to this\n",
      "correspondence, there can be four types of Weyl fermions, depending on the\n",
      "signs of the components $g^{00}$ and $g_{00}$ of the effective metric. In\n",
      "addition to the conventional type-I fermions with a tilted Weyl cone and\n",
      "type-II fermions with an overtilted Weyl cone for $g^{00}>0$ and respectively\n",
      "$g_{00}>0$ or $g_{00}<0$, we find additional \"type-III\" and \"type-IV\" Weyl\n",
      "fermions with instabilities (complex frequencies) for $g^{00}<0$ and $g_{00}>0$\n",
      "or $g_{00}<0$, respectively. While the type-I and type-II Weyl points allow us\n",
      "to simulate the black hole event horizon at an interface where $g^{00}$ changes\n",
      "sign, the type-III Weyl point leads to effective spacetimes with closed\n",
      "timelike curves.\n",
      "-------------------------\n",
      "\n",
      "-------------------------\n",
      "Title:  On New Proposal for Holographic BCFT\n",
      "Authors:  Chong-Sun Chu, Rong-Xin Miao, Wu-Zhong Guo\n",
      "arXiv id:  1701.07202\n",
      "Summary:  This paper is an extended version of our short letter on a new proposal for\n",
      "holographic boundary conformal field, i.e., BCFT. By using the\n",
      "Penrose-Brown-Henneaux (PBH) transformation, we successfully obtain the\n",
      "expected boundary Weyl anomaly. The obtained boundary central charges satisfy\n",
      "naturally a c-like theorem holographically. We then develop an approach of\n",
      "holographic renormalization for BCFT, and reproduce the correct boundary Weyl\n",
      "anomaly. This provides a non-trivial check of our proposal. We also investigate\n",
      "the holographic entanglement entropy of BCFT and find that our proposal gives\n",
      "the expected orthogonal condition that the minimal surface must be normal to\n",
      "the spacetime boundaries if they intersect. This is another support for our\n",
      "proposal. We also find that the entanglement entropy depends on the boundary\n",
      "conditions of BCFT and the distance to the boundary; and that the entanglement\n",
      "wedge behaves a phase transition, which is important for the self-consistency\n",
      "of AdS/BCFT. Finally, we show that the proposal of arXiv:1105.5165 is too\n",
      "restrictive that it always make vanishing some of the boundary central charges.\n",
      "-------------------------\n",
      "\n"
     ]
    }
   ],
   "source": [
    "entries = axs.get_entries('cat:gr-qc', [], 0, 5)\n",
    "for entry in entries:\n",
    "    axs.show_entry(entry)"
   ]
  },
  {
   "cell_type": "markdown",
   "metadata": {},
   "source": [
    "We can see that `read_arxiv` does sort the papers."
   ]
  },
  {
   "cell_type": "markdown",
   "metadata": {},
   "source": [
    "### Update Your Personal Data in One Go"
   ]
  },
  {
   "cell_type": "markdown",
   "metadata": {},
   "source": [
    "Suppose I like all the recent (ten) papers written by Polchinski (as a big fan). Then, by employing `axs.label`, I can append their arXiv_id into `axs.liked_papers` which has been initialized as `[]`. Doing so by hand in this case (I like all of them!) is dull. Instead, we can use `"
   ]
  },
  {
   "cell_type": "code",
   "execution_count": 12,
   "metadata": {
    "collapsed": false
   },
   "outputs": [
    {
     "name": "stdout",
     "output_type": "stream",
     "text": [
      "['1611.04650', '1609.04036', '1602.06422', '1601.06145', '1601.06768', '1512.02477', '1509.05710', '1501.06577', '1402.6334', '1402.6327']\n"
     ]
    }
   ],
   "source": [
    "liked = [entry.id for entry in axs.get_entries('au:Polchinski', [], 0, 10)]\n",
    "print(liked)"
   ]
  },
  {
   "cell_type": "code",
   "execution_count": 13,
   "metadata": {
    "collapsed": false
   },
   "outputs": [
    {
     "name": "stdout",
     "output_type": "stream",
     "text": [
      "{'True': ['1702.04624', '1701.07202', '1611.04650', '1609.04036', '1602.06422', '1601.06145', '1601.06768', '1512.02477', '1509.05710', '1501.06577', '1402.6334', '1402.6327'], 'False': ['1702.04676']}\n"
     ]
    }
   ],
   "source": [
    "axs.label(liked, True)\n",
    "print(axs.like_papers)"
   ]
  },
  {
   "cell_type": "markdown",
   "metadata": {},
   "source": [
    "Now I can update my information by `axs.update_personal_data()`, which will update my personal data in `./personal_data` just `label`ed."
   ]
  },
  {
   "cell_type": "code",
   "execution_count": 14,
   "metadata": {
    "collapsed": false
   },
   "outputs": [],
   "source": [
    "axs.update_personal_data()\n",
    "axs.write_personal_data()"
   ]
  },
  {
   "cell_type": "markdown",
   "metadata": {},
   "source": [
    "Now, `./personal_data` is updated, as you can check."
   ]
  },
  {
   "cell_type": "code",
   "execution_count": 15,
   "metadata": {
    "collapsed": false
   },
   "outputs": [
    {
     "name": "stdout",
     "output_type": "stream",
     "text": [
      "{'True': ['1702.04624', '1701.07202', '1702.04624', '1701.07202', '1702.04624', '1701.07202', '1611.04650', '1609.04036', '1602.06422', '1601.06145', '1601.06768', '1512.02477', '1509.05710', '1501.06577', '1402.6334', '1402.6327'], 'False': ['1702.04676', '1702.04676', '1702.04676']}\n"
     ]
    }
   ],
   "source": [
    "personal_data = axs.read_personal_data()\n",
    "print(personal_data['like_papers'])"
   ]
  },
  {
   "cell_type": "markdown",
   "metadata": {},
   "source": [
    "Here is some bug!"
   ]
  }
 ],
 "metadata": {
  "kernelspec": {
   "display_name": "Python 3",
   "language": "python",
   "name": "python3"
  },
  "language_info": {
   "codemirror_mode": {
    "name": "ipython",
    "version": 3
   },
   "file_extension": ".py",
   "mimetype": "text/x-python",
   "name": "python",
   "nbconvert_exporter": "python",
   "pygments_lexer": "ipython3",
   "version": "3.6.0"
  }
 },
 "nbformat": 4,
 "nbformat_minor": 2
}
