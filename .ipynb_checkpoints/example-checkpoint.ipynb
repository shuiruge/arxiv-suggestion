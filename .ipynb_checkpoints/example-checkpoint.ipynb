{
 "cells": [
  {
   "cell_type": "code",
   "execution_count": 1,
   "metadata": {
    "collapsed": false
   },
   "outputs": [],
   "source": [
    "import arxiv_suggestion as axs"
   ]
  },
  {
   "cell_type": "markdown",
   "metadata": {},
   "source": [
    "## Personal Data"
   ]
  },
  {
   "cell_type": "markdown",
   "metadata": {},
   "source": [
    "### Initialize Your Personal Data if You Have None"
   ]
  },
  {
   "cell_type": "code",
   "execution_count": 2,
   "metadata": {
    "collapsed": false
   },
   "outputs": [],
   "source": [
    "## Run this if your personal_data is empty.\n",
    "## But generally it's not.\n",
    "#\n",
    "personal_data = axs.initialize_personal_data()\n",
    "pd = open('personal_data', 'w')\n",
    "pd.write(str(personal_data))\n",
    "pd.close()"
   ]
  },
  {
   "cell_type": "markdown",
   "metadata": {},
   "source": [
    "Now my personal_data has been initialized to be empty."
   ]
  },
  {
   "cell_type": "code",
   "execution_count": 3,
   "metadata": {
    "collapsed": false
   },
   "outputs": [
    {
     "data": {
      "text/plain": [
       "{'disliked_papers': [],\n",
       " 'liked_papers': [],\n",
       " 'total_words': {'dislike': 0, 'like': 0},\n",
       " 'vocabulary': {}}"
      ]
     },
     "execution_count": 3,
     "metadata": {},
     "output_type": "execute_result"
    }
   ],
   "source": [
    "personal_data = axs.read_personal_data()\n",
    "personal_data"
   ]
  },
  {
   "cell_type": "markdown",
   "metadata": {},
   "source": [
    "### Update Your Personal Data"
   ]
  },
  {
   "cell_type": "markdown",
   "metadata": {},
   "source": [
    "Suppose I like all the recent (ten) papers written by Polchinski. Then, by employing `axs.label`, I can append their arXiv_id into `axs.liked_papers` which has been initialized as `[]`. Doing so by hand in this case (I like all of them!) is dull. Instead, we can use `"
   ]
  },
  {
   "cell_type": "code",
   "execution_count": 4,
   "metadata": {
    "collapsed": false
   },
   "outputs": [
    {
     "name": "stdout",
     "output_type": "stream",
     "text": [
      "['1611.04650', '1609.04036', '1602.06422', '1601.06145', '1601.06768', '1512.02477', '1509.05710', '1501.06577', '1402.6334', '1402.6327']\n"
     ]
    }
   ],
   "source": [
    "liked = [entry.id for entry in axs.get_entries('au:Polchinski', [], 0, 10)]\n",
    "print(liked)"
   ]
  },
  {
   "cell_type": "code",
   "execution_count": 5,
   "metadata": {
    "collapsed": false
   },
   "outputs": [
    {
     "name": "stdout",
     "output_type": "stream",
     "text": [
      "['1611.04650', '1609.04036', '1602.06422', '1601.06145', '1601.06768', '1512.02477', '1509.05710', '1501.06577', '1402.6334', '1402.6327']\n",
      "[]\n"
     ]
    }
   ],
   "source": [
    "axs.label(liked, True)\n",
    "print(axs.liked_papers)\n",
    "print(axs.disliked_papers)"
   ]
  },
  {
   "cell_type": "markdown",
   "metadata": {},
   "source": [
    "Now I can update my information by `axs.update()`, which will update my personal data in `./personal_data` by `axs.liked_papers` and `axs.disliked_papers` just `label`ed."
   ]
  },
  {
   "cell_type": "code",
   "execution_count": 6,
   "metadata": {
    "collapsed": false
   },
   "outputs": [],
   "source": [
    "axs.update()"
   ]
  },
  {
   "cell_type": "markdown",
   "metadata": {},
   "source": [
    "Now, `./personal_data` is updated, as you can check."
   ]
  },
  {
   "cell_type": "code",
   "execution_count": 7,
   "metadata": {
    "collapsed": true
   },
   "outputs": [
    {
     "name": "stdout",
     "output_type": "stream",
     "text": [
      "{'vocabulary': {'argue': {'like': 0.0037916662984752553, 'dislike': 0.0002835270768358378}, 'late': {'like': 0.002394583898579315, 'dislike': 0.0002835270768358378}, 'behavior': {'like': 0.0037916662984752553, 'dislike': 0.0002835270768358378}, 'horizon': {'like': 0.0005670541536716756, 'dislike': 0.0002835270768358378}, 'fluctuations': {'like': 0.0005670541536716756, 'dislike': 0.0002835270768358378}, 'large': {'like': 0.0012905425833633515, 'dislike': 0.0002835270768358378}, 'antide': {'like': 0.0005670541536716756, 'dislike': 0.0002835270768358378}, 'sitter': {'like': 0.0012905425833633515, 'dislike': 0.0002835270768358378}, 'ads': {'like': 0.0037916662984752553, 'dislike': 0.0002835270768358378}, 'black': {'like': 0.009111540438388778, 'dislike': 0.0002835270768358378}, 'holes': {'like': 0.0012905425833633515, 'dislike': 0.0002835270768358378}, 'governed': {'like': 0.0005670541536716756, 'dislike': 0.0002835270768358378}, 'random': {'like': 0.005411933581601298, 'dislike': 0.0002835270768358378}, 'matrix': {'like': 0.0037916662984752553, 'dislike': 0.0002835270768358378}, 'dynamics': {'like': 0.0012905425833633515, 'dislike': 0.0002835270768358378}, 'characteristic': {'like': 0.0005670541536716756, 'dislike': 0.0002835270768358378}, 'quantum': {'like': 0.007199862775754148, 'dislike': 0.0002835270768358378}, 'chaotic': {'like': 0.0012905425833633515, 'dislike': 0.0002835270768358378}, 'systems': {'like': 0.0005670541536716756, 'dislike': 0.0002835270768358378}, 'main': {'like': 0.0005670541536716756, 'dislike': 0.0002835270768358378}, 'tool': {'like': 0.0005670541536716756, 'dislike': 0.0002835270768358378}, 'sachdevyekitaev': {'like': 0.0005670541536716756, 'dislike': 0.0002835270768358378}, 'syk': {'like': 0.0037916662984752553, 'dislike': 0.0002835270768358378}, 'model': {'like': 0.015280025919255005, 'dislike': 0.0002835270768358378}, 'simple': {'like': 0.0012905425833633515, 'dislike': 0.0002835270768358378}, 'hole': {'like': 0.005411933581601298, 'dislike': 0.0002835270768358378}, 'analytically': {'like': 0.0005670541536716756, 'dislike': 0.0002835270768358378}, 'continued': {'like': 0.0005670541536716756, 'dislike': 0.0002835270768358378}, 'partition': {'like': 0.0005670541536716756, 'dislike': 0.0002835270768358378}, 'function': {'like': 0.005411933581601298, 'dislike': 0.0002835270768358378}, 'zbeta': {'like': 0.0005670541536716756, 'dislike': 0.0002835270768358378}, 'it2': {'like': 0.0005670541536716756, 'dislike': 0.0002835270768358378}, 'correlation': {'like': 0.0005670541536716756, 'dislike': 0.0002835270768358378}, 'functions': {'like': 0.0005670541536716756, 'dislike': 0.0002835270768358378}, 'diagnostics': {'like': 0.0005670541536716756, 'dislike': 0.0002835270768358378}, 'using': {'like': 0.0005670541536716756, 'dislike': 0.0002835270768358378}, 'numerical': {'like': 0.0005670541536716756, 'dislike': 0.0002835270768358378}, 'techniques': {'like': 0.0005670541536716756, 'dislike': 0.0002835270768358378}, 'establish': {'like': 0.0005670541536716756, 'dislike': 0.0002835270768358378}, 'times': {'like': 0.0005670541536716756, 'dislike': 0.0002835270768358378}, 'determine': {'like': 0.0005670541536716756, 'dislike': 0.0002835270768358378}, 'early': {'like': 0.0005670541536716756, 'dislike': 0.0002835270768358378}, 'exactly': {'like': 0.0005670541536716756, 'dislike': 0.0002835270768358378}, 'double': {'like': 0.0005670541536716756, 'dislike': 0.0002835270768358378}, 'scaling': {'like': 0.0005670541536716756, 'dislike': 0.0002835270768358378}, 'limit': {'like': 0.0005670541536716756, 'dislike': 0.0002835270768358378}, 'giving': {'like': 0.0012905425833633515, 'dislike': 0.0002835270768358378}, 'plausible': {'like': 0.0005670541536716756, 'dislike': 0.0002835270768358378}, 'estimate': {'like': 0.0012905425833633515, 'dislike': 0.0002835270768358378}, 'crossover': {'like': 0.0012905425833633515, 'dislike': 0.0002835270768358378}, 'ideas': {'like': 0.002394583898579315, 'dislike': 0.0002835270768358378}, 'formulate': {'like': 0.0005670541536716756, 'dislike': 0.0002835270768358378}, 'conjecture': {'like': 0.0005670541536716756, 'dislike': 0.0002835270768358378}, 'general': {'like': 0.0012905425833633515, 'dislike': 0.0002835270768358378}, 'those': {'like': 0.0005670541536716756, 'dislike': 0.0002835270768358378}, 'dual': {'like': 0.002394583898579315, 'dislike': 0.0002835270768358378}, '4d': {'like': 0.0005670541536716756, 'dislike': 0.0002835270768358378}, 'superyangmills': {'like': 0.0005670541536716756, 'dislike': 0.0002835270768358378}, 'theory': {'like': 0.013175563634149495, 'dislike': 0.0002835270768358378}, 'provisional': {'like': 0.0005670541536716756, 'dislike': 0.0002835270768358378}, 'preliminary': {'like': 0.0005670541536716756, 'dislike': 0.0002835270768358378}, 'comments': {'like': 0.0005670541536716756, 'dislike': 0.0002835270768358378}, 'challenges': {'like': 0.0012905425833633515, 'dislike': 0.0002835270768358378}, 'understanding': {'like': 0.0012905425833633515, 'dislike': 0.0002835270768358378}, 'bulk': {'like': 0.002394583898579315, 'dislike': 0.0002835270768358378}, 'point': {'like': 0.0012905425833633515, 'dislike': 0.0002835270768358378}, 'view': {'like': 0.0005670541536716756, 'dislike': 0.0002835270768358378}, 'information': {'like': 0.0012905425833633515, 'dislike': 0.0002835270768358378}, 'problem': {'like': 0.0005670541536716756, 'dislike': 0.0002835270768358378}, 'has': {'like': 0.005411933581601298, 'dislike': 0.0002835270768358378}, 'been': {'like': 0.0012905425833633515, 'dislike': 0.0002835270768358378}, 'challenge': {'like': 0.0005670541536716756, 'dislike': 0.0002835270768358378}, 'since': {'like': 0.0005670541536716756, 'dislike': 0.0002835270768358378}, 'hawkings': {'like': 0.0005670541536716756, 'dislike': 0.0002835270768358378}, 'original': {'like': 0.0005670541536716756, 'dislike': 0.0002835270768358378}, '1975': {'like': 0.0005670541536716756, 'dislike': 0.0002835270768358378}, 'paper': {'like': 0.0005670541536716756, 'dislike': 0.0002835270768358378}, 'led': {'like': 0.0005670541536716756, 'dislike': 0.0002835270768358378}, 'discovery': {'like': 0.0012905425833633515, 'dislike': 0.0002835270768358378}, 'adscft': {'like': 0.0012905425833633515, 'dislike': 0.0002835270768358378}, 'gave': {'like': 0.0005670541536716756, 'dislike': 0.0002835270768358378}, 'partial': {'like': 0.0012905425833633515, 'dislike': 0.0002835270768358378}, 'resolution': {'like': 0.0012905425833633515, 'dislike': 0.0002835270768358378}, 'paradox': {'like': 0.0012905425833633515, 'dislike': 0.0002835270768358378}, 'however': {'like': 0.0012905425833633515, 'dislike': 0.0002835270768358378}, 'recent': {'like': 0.0037916662984752553, 'dislike': 0.0002835270768358378}, 'developments': {'like': 0.0005670541536716756, 'dislike': 0.0002835270768358378}, 'particular': {'like': 0.0005670541536716756, 'dislike': 0.0002835270768358378}, 'firewall': {'like': 0.0005670541536716756, 'dislike': 0.0002835270768358378}, 'puzzle': {'like': 0.0005670541536716756, 'dislike': 0.0002835270768358378}, 'show': {'like': 0.005411933581601298, 'dislike': 0.0002835270768358378}, 'much': {'like': 0.0005670541536716756, 'dislike': 0.0002835270768358378}, 'understand': {'like': 0.0005670541536716756, 'dislike': 0.0002835270768358378}, 'i': {'like': 0.013175563634149495, 'dislike': 0.0002835270768358378}, 'review': {'like': 0.002394583898579315, 'dislike': 0.0002835270768358378}, 'hawking': {'like': 0.0005670541536716756, 'dislike': 0.0002835270768358378}, 'radiation': {'like': 0.0005670541536716756, 'dislike': 0.0002835270768358378}, 'page': {'like': 0.0005670541536716756, 'dislike': 0.0002835270768358378}, 'curve': {'like': 0.0005670541536716756, 'dislike': 0.0002835270768358378}, 'classic': {'like': 0.0005670541536716756, 'dislike': 0.0002835270768358378}, 'form': {'like': 0.0005670541536716756, 'dislike': 0.0002835270768358378}, 'discuss': {'like': 0.0037916662984752553, 'dislike': 0.0002835270768358378}, 'complementarity': {'like': 0.0005670541536716756, 'dislike': 0.0002835270768358378}, 'limitations': {'like': 0.0005670541536716756, 'dislike': 0.0002835270768358378}, 'leading': {'like': 0.0005670541536716756, 'dislike': 0.0002835270768358378}, 'many': {'like': 0.0005670541536716756, 'dislike': 0.0002835270768358378}, 'proposals': {'like': 0.0005670541536716756, 'dislike': 0.0002835270768358378}, 'different': {'like': 0.0005670541536716756, 'dislike': 0.0002835270768358378}, 'kinds': {'like': 0.0005670541536716756, 'dislike': 0.0002835270768358378}, 'drama': {'like': 0.0005670541536716756, 'dislike': 0.0002835270768358378}, 'conclude': {'like': 0.0005670541536716756, 'dislike': 0.0002835270768358378}, 'iop': {'like': 0.0012905425833633515, 'dislike': 0.0002835270768358378}, 'mechanical': {'like': 0.0005670541536716756, 'dislike': 0.0002835270768358378}, 'system': {'like': 0.0012905425833633515, 'dislike': 0.0002835270768358378}, 'largen': {'like': 0.0005670541536716756, 'dislike': 0.0002835270768358378}, 'oscillator': {'like': 0.0012905425833633515, 'dislike': 0.0002835270768358378}, 'fundamental': {'like': 0.0005670541536716756, 'dislike': 0.0002835270768358378}, 'coupled': {'like': 0.0005670541536716756, 'dislike': 0.0002835270768358378}, 'through': {'like': 0.0005670541536716756, 'dislike': 0.0002835270768358378}, 'quartic': {'like': 0.0012905425833633515, 'dislike': 0.0002835270768358378}, 'interaction': {'like': 0.0012905425833633515, 'dislike': 0.0002835270768358378}, 'was': {'like': 0.0005670541536716756, 'dislike': 0.0002835270768358378}, 'introduced': {'like': 0.0005670541536716756, 'dislike': 0.0002835270768358378}, 'previously': {'like': 0.0005670541536716756, 'dislike': 0.0002835270768358378}, 'toy': {'like': 0.0005670541536716756, 'dislike': 0.0002835270768358378}, 'gauge': {'like': 0.005411933581601298, 'dislike': 0.0002835270768358378}, 'captures': {'like': 0.0005670541536716756, 'dislike': 0.0002835270768358378}, 'key': {'like': 0.0005670541536716756, 'dislike': 0.0002835270768358378}, 'property': {'like': 0.0005670541536716756, 'dislike': 0.0002835270768358378}, 'infinite': {'like': 0.0005670541536716756, 'dislike': 0.0002835270768358378}, 'n': {'like': 0.0005670541536716756, 'dislike': 0.0002835270768358378}, 'twopoint': {'like': 0.0005670541536716756, 'dislike': 0.0002835270768358378}, 'decays': {'like': 0.0005670541536716756, 'dislike': 0.0002835270768358378}, 'zero': {'like': 0.0005670541536716756, 'dislike': 0.0002835270768358378}, 'long': {'like': 0.0005670541536716756, 'dislike': 0.0002835270768358378}, 'scales': {'like': 0.0037916662984752553, 'dislike': 0.0002835270768358378}, 'motivated': {'like': 0.0005670541536716756, 'dislike': 0.0002835270768358378}, 'chaos': {'like': 0.0005670541536716756, 'dislike': 0.0002835270768358378}, 'sum': {'like': 0.002394583898579315, 'dislike': 0.0002835270768358378}, 'planar': {'like': 0.0005670541536716756, 'dislike': 0.0002835270768358378}, 'feynman': {'like': 0.0005670541536716756, 'dislike': 0.0002835270768358378}, 'diagrams': {'like': 0.0005670541536716756, 'dislike': 0.0002835270768358378}, 'contributing': {'like': 0.0005670541536716756, 'dislike': 0.0002835270768358378}, 'fourpoint': {'like': 0.002394583898579315, 'dislike': 0.0002835270768358378}, 'find': {'like': 0.0012905425833633515, 'dislike': 0.0002835270768358378}, 'does': {'like': 0.0005670541536716756, 'dislike': 0.0002835270768358378}, 'satisfy': {'like': 0.0005670541536716756, 'dislike': 0.0002835270768358378}, 'more': {'like': 0.0005670541536716756, 'dislike': 0.0002835270768358378}, 'refined': {'like': 0.0005670541536716756, 'dislike': 0.0002835270768358378}, 'criteria': {'like': 0.0005670541536716756, 'dislike': 0.0002835270768358378}, 'exponential': {'like': 0.0005670541536716756, 'dislike': 0.0002835270768358378}, 'growth': {'like': 0.0005670541536716756, 'dislike': 0.0002835270768358378}, 'outoftimeorder': {'like': 0.0005670541536716756, 'dislike': 0.0002835270768358378}, 'expand': {'like': 0.0005670541536716756, 'dislike': 0.0002835270768358378}, 'string': {'like': 0.0037916662984752553, 'dislike': 0.0002835270768358378}, 'rescue': {'like': 0.0005670541536716756, 'dislike': 0.0002835270768358378}, 'bayesian': {'like': 0.0005670541536716756, 'dislike': 0.0002835270768358378}, 'reasoning': {'like': 0.0005670541536716756, 'dislike': 0.0002835270768358378}, 'useful': {'like': 0.0005670541536716756, 'dislike': 0.0002835270768358378}, 'very': {'like': 0.0005670541536716756, 'dislike': 0.0002835270768358378}, 'far': {'like': 0.0005670541536716756, 'dislike': 0.0002835270768358378}, 'central': {'like': 0.0005670541536716756, 'dislike': 0.0002835270768358378}, 'discussion': {'like': 0.0012905425833633515, 'dislike': 0.0002835270768358378}, 'own': {'like': 0.0005670541536716756, 'dislike': 0.0002835270768358378}, 'personal': {'like': 0.0005670541536716756, 'dislike': 0.0002835270768358378}, 'history': {'like': 0.0005670541536716756, 'dislike': 0.0002835270768358378}, 'multiverse': {'like': 0.0005670541536716756, 'dislike': 0.0002835270768358378}, 'finally': {'like': 0.0005670541536716756, 'dislike': 0.0002835270768358378}, 'respond': {'like': 0.0005670541536716756, 'dislike': 0.0002835270768358378}, 'criticisms': {'like': 0.0005670541536716756, 'dislike': 0.0002835270768358378}, 'ellis': {'like': 0.0005670541536716756, 'dislike': 0.0002835270768358378}, 'silk': {'like': 0.0005670541536716756, 'dislike': 0.0002835270768358378}, 'initiated': {'like': 0.0005670541536716756, 'dislike': 0.0002835270768358378}, 'interesting': {'like': 0.0012905425833633515, 'dislike': 0.0002835270768358378}, 'consists': {'like': 0.0005670541536716756, 'dislike': 0.0002835270768358378}, 'ngg': {'like': 0.0005670541536716756, 'dislike': 0.0002835270768358378}, '1': {'like': 0.0005670541536716756, 'dislike': 0.0002835270768358378}, 'fermions': {'like': 0.0005670541536716756, 'dislike': 0.0002835270768358378}, '01': {'like': 0.0005670541536716756, 'dislike': 0.0002835270768358378}, 'dimensions': {'like': 0.0005670541536716756, 'dislike': 0.0002835270768358378}, 'alltoall': {'like': 0.0005670541536716756, 'dislike': 0.0002835270768358378}, 'recently': {'like': 0.0012905425833633515, 'dislike': 0.0002835270768358378}, 'kitaev': {'like': 0.0005670541536716756, 'dislike': 0.0002835270768358378}, 'found': {'like': 0.0005670541536716756, 'dislike': 0.0002835270768358378}, 'maximally': {'like': 0.0005670541536716756, 'dislike': 0.0002835270768358378}, 'proposed': {'like': 0.0005670541536716756, 'dislike': 0.0002835270768358378}, 'holography': {'like': 0.0005670541536716756, 'dislike': 0.0002835270768358378}, 'solve': {'like': 0.0005670541536716756, 'dislike': 0.0002835270768358378}, 'schwingerdyson': {'like': 0.0005670541536716756, 'dislike': 0.0002835270768358378}, 'equation': {'like': 0.0005670541536716756, 'dislike': 0.0002835270768358378}, 'compute': {'like': 0.0005670541536716756, 'dislike': 0.0002835270768358378}, 'spectrum': {'like': 0.0012905425833633515, 'dislike': 0.0002835270768358378}, 'twoparticle': {'like': 0.0005670541536716756, 'dislike': 0.0002835270768358378}, 'states': {'like': 0.0005670541536716756, 'dislike': 0.0002835270768358378}, 'finding': {'like': 0.0005670541536716756, 'dislike': 0.0002835270768358378}, 'both': {'like': 0.0005670541536716756, 'dislike': 0.0002835270768358378}, 'continuous': {'like': 0.0005670541536716756, 'dislike': 0.0002835270768358378}, 'discrete': {'like': 0.0012905425833633515, 'dislike': 0.0002835270768358378}, 'tower': {'like': 0.0012905425833633515, 'dislike': 0.0002835270768358378}, 'expressed': {'like': 0.0005670541536716756, 'dislike': 0.0002835270768358378}, 'evaluated': {'like': 0.0005670541536716756, 'dislike': 0.0002835270768358378}, 'search': {'like': 0.0005670541536716756, 'dislike': 0.0002835270768358378}, 'gravity': {'like': 0.0012905425833633515, 'dislike': 0.0002835270768358378}, 'faces': {'like': 0.0005670541536716756, 'dislike': 0.0002835270768358378}, 'great': {'like': 0.0005670541536716756, 'dislike': 0.0002835270768358378}, 'incredibly': {'like': 0.0005670541536716756, 'dislike': 0.0002835270768358378}, 'small': {'like': 0.0005670541536716756, 'dislike': 0.0002835270768358378}, 'planck': {'like': 0.0005670541536716756, 'dislike': 0.0002835270768358378}, 'length': {'like': 0.0005670541536716756, 'dislike': 0.0002835270768358378}, 'possibility': {'like': 0.0005670541536716756, 'dislike': 0.0002835270768358378}, 'observed': {'like': 0.0012905425833633515, 'dislike': 0.0002835270768358378}, 'constants': {'like': 0.0005670541536716756, 'dislike': 0.0002835270768358378}, 'nature': {'like': 0.0005670541536716756, 'dislike': 0.0002835270768358378}, 'part': {'like': 0.0005670541536716756, 'dislike': 0.0002835270768358378}, 'result': {'like': 0.0005670541536716756, 'dislike': 0.0002835270768358378}, 'processes': {'like': 0.0005670541536716756, 'dislike': 0.0002835270768358378}, 'priori': {'like': 0.0005670541536716756, 'dislike': 0.0002835270768358378}, 'might': {'like': 0.0005670541536716756, 'dislike': 0.0002835270768358378}, 'expected': {'like': 0.0012905425833633515, 'dislike': 0.0002835270768358378}, 'insuperable': {'like': 0.0005670541536716756, 'dislike': 0.0002835270768358378}, 'obstacles': {'like': 0.0005670541536716756, 'dislike': 0.0002835270768358378}, 'clues': {'like': 0.0005670541536716756, 'dislike': 0.0002835270768358378}, 'physics': {'like': 0.0005670541536716756, 'dislike': 0.0002835270768358378}, 'raise': {'like': 0.0005670541536716756, 'dislike': 0.0002835270768358378}, 'hope': {'like': 0.0005670541536716756, 'dislike': 0.0002835270768358378}, 'unification': {'like': 0.0005670541536716756, 'dislike': 0.0002835270768358378}, 'mechanics': {'like': 0.0005670541536716756, 'dislike': 0.0002835270768358378}, 'relativity': {'like': 0.0005670541536716756, 'dislike': 0.0002835270768358378}, 'within': {'like': 0.0005670541536716756, 'dislike': 0.0002835270768358378}, 'reach': {'like': 0.0005670541536716756, 'dislike': 0.0002835270768358378}, 'few': {'like': 0.0005670541536716756, 'dislike': 0.0002835270768358378}, 'stable': {'like': 0.0005670541536716756, 'dislike': 0.0002835270768358378}, 'nonsupersymmetric': {'like': 0.0005670541536716756, 'dislike': 0.0002835270768358378}, 'de': {'like': 0.0005670541536716756, 'dislike': 0.0002835270768358378}, 'vacua': {'like': 0.0012905425833633515, 'dislike': 0.0002835270768358378}, 'metastable': {'like': 0.0005670541536716756, 'dislike': 0.0002835270768358378}, 'ones': {'like': 0.0005670541536716756, 'dislike': 0.0002835270768358378}, 'antibranes': {'like': 0.0005670541536716756, 'dislike': 0.0002835270768358378}, 'source': {'like': 0.0012905425833633515, 'dislike': 0.0002835270768358378}, 'supersymmetry': {'like': 0.0005670541536716756, 'dislike': 0.0002835270768358378}, 'breaking': {'like': 0.0005670541536716756, 'dislike': 0.0002835270768358378}, 'kklt': {'like': 0.0012905425833633515, 'dislike': 0.0002835270768358378}, 'various': {'like': 0.0012905425833633515, 'dislike': 0.0002835270768358378}, 'arguments': {'like': 0.0005670541536716756, 'dislike': 0.0002835270768358378}, 'given': {'like': 0.0005670541536716756, 'dislike': 0.0002835270768358378}, 'fail': {'like': 0.0005670541536716756, 'dislike': 0.0002835270768358378}, 'produce': {'like': 0.0005670541536716756, 'dislike': 0.0002835270768358378}, 'desired': {'like': 0.0005670541536716756, 'dislike': 0.0002835270768358378}, 'proper': {'like': 0.0005670541536716756, 'dislike': 0.0002835270768358378}, 'analysis': {'like': 0.0005670541536716756, 'dislike': 0.0002835270768358378}, 'requires': {'like': 0.0005670541536716756, 'dislike': 0.0002835270768358378}, 'identifying': {'like': 0.0005670541536716756, 'dislike': 0.0002835270768358378}, 'correct': {'like': 0.0005670541536716756, 'dislike': 0.0002835270768358378}, 'effective': {'like': 0.0005670541536716756, 'dislike': 0.0002835270768358378}, 'field': {'like': 0.0012905425833633515, 'dislike': 0.0002835270768358378}, 'theories': {'like': 0.0005670541536716756, 'dislike': 0.0002835270768358378}, 'reproduces': {'like': 0.0005670541536716756, 'dislike': 0.0002835270768358378}, 'conclusions': {'like': 0.0005670541536716756, 'dislike': 0.0002835270768358378}, 'expanded': {'like': 0.0005670541536716756, 'dislike': 0.0002835270768358378}, 'version': {'like': 0.0005670541536716756, 'dislike': 0.0002835270768358378}, 'talk': {'like': 0.0005670541536716756, 'dislike': 0.0002835270768358378}, 'presented': {'like': 0.0005670541536716756, 'dislike': 0.0002835270768358378}, 'susy': {'like': 0.0005670541536716756, 'dislike': 0.0002835270768358378}, '2015': {'like': 0.0005670541536716756, 'dislike': 0.0002835270768358378}, 'lake': {'like': 0.0005670541536716756, 'dislike': 0.0002835270768358378}, 'tahoe': {'like': 0.0005670541536716756, 'dislike': 0.0002835270768358378}, 'almheiri': {'like': 0.0005670541536716756, 'dislike': 0.0002835270768358378}, 'dong': {'like': 0.0005670541536716756, 'dislike': 0.0002835270768358378}, 'harlow': {'like': 0.0005670541536716756, 'dislike': 0.0002835270768358378}, 'argued': {'like': 0.0005670541536716756, 'dislike': 0.0002835270768358378}, 'localization': {'like': 0.0005670541536716756, 'dislike': 0.0002835270768358378}, 'boundary': {'like': 0.0012905425833633515, 'dislike': 0.0002835270768358378}, 'should': {'like': 0.0005670541536716756, 'dislike': 0.0002835270768358378}, 'understood': {'like': 0.0005670541536716756, 'dislike': 0.0002835270768358378}, 'terms': {'like': 0.0005670541536716756, 'dislike': 0.0002835270768358378}, 'error': {'like': 0.0005670541536716756, 'dislike': 0.0002835270768358378}, 'correction': {'like': 0.0005670541536716756, 'dislike': 0.0002835270768358378}, 'structure': {'like': 0.0005670541536716756, 'dislike': 0.0002835270768358378}, 'appears': {'like': 0.0005670541536716756, 'dislike': 0.0002835270768358378}, 'naturally': {'like': 0.0005670541536716756, 'dislike': 0.0002835270768358378}, 'invariance': {'like': 0.0012905425833633515, 'dislike': 0.0002835270768358378}, 'incorporated': {'like': 0.0005670541536716756, 'dislike': 0.0002835270768358378}, 'provides': {'like': 0.0005670541536716756, 'dislike': 0.0002835270768358378}, 'nonuniqueness': {'like': 0.0005670541536716756, 'dislike': 0.0002835270768358378}, 'fields': {'like': 0.002394583898579315, 'dislike': 0.0002835270768358378}, 'precursors': {'like': 0.0005670541536716756, 'dislike': 0.0002835270768358378}, 'suggests': {'like': 0.0005670541536716756, 'dislike': 0.0002835270768358378}, 'close': {'like': 0.0005670541536716756, 'dislike': 0.0002835270768358378}, 'connection': {'like': 0.0005670541536716756, 'dislike': 0.0002835270768358378}, 'between': {'like': 0.0012905425833633515, 'dislike': 0.0002835270768358378}, 'emergence': {'like': 0.0005670541536716756, 'dislike': 0.0002835270768358378}, 'spacetime': {'like': 0.0005670541536716756, 'dislike': 0.0002835270768358378}, 'develop': {'like': 0.0005670541536716756, 'dislike': 0.0002835270768358378}, 'models': {'like': 0.0005670541536716756, 'dislike': 0.0002835270768358378}, '11': {'like': 0.0012905425833633515, 'dislike': 0.0002835270768358378}, 'dimensional': {'like': 0.002394583898579315, 'dislike': 0.0002835270768358378}, 'dilaton': {'like': 0.0005670541536716756, 'dislike': 0.0002835270768358378}, 'describing': {'like': 0.0005670541536716756, 'dislike': 0.0002835270768358378}, 'flows': {'like': 0.0005670541536716756, 'dislike': 0.0002835270768358378}, 'ads2': {'like': 0.0005670541536716756, 'dislike': 0.0002835270768358378}, 'higher': {'like': 0.0005670541536716756, 'dislike': 0.0002835270768358378}, 'spaces': {'like': 0.0012905425833633515, 'dislike': 0.0002835270768358378}, 'study': {'like': 0.0005670541536716756, 'dislike': 0.0002835270768358378}, 'effects': {'like': 0.0012905425833633515, 'dislike': 0.0002835270768358378}, 'backreaction': {'like': 0.0005670541536716756, 'dislike': 0.0002835270768358378}, 'holographic': {'like': 0.0005670541536716756, 'dislike': 0.0002835270768358378}, 'correlators': {'like': 0.0005670541536716756, 'dislike': 0.0002835270768358378}, 'relevant': {'like': 0.0005670541536716756, 'dislike': 0.0002835270768358378}, 'effect': {'like': 0.0005670541536716756, 'dislike': 0.0002835270768358378}, 'low': {'like': 0.0005670541536716756, 'dislike': 0.0002835270768358378}, 'energies': {'like': 0.0005670541536716756, 'dislike': 0.0002835270768358378}, 'compact': {'like': 0.0005670541536716756, 'dislike': 0.0002835270768358378}, 'transverse': {'like': 0.0005670541536716756, 'dislike': 0.0002835270768358378}, 'matter': {'like': 0.0005670541536716756, 'dislike': 0.0002835270768358378}, 'loops': {'like': 0.0005670541536716756, 'dislike': 0.0002835270768358378}, 'cghs': {'like': 0.0005670541536716756, 'dislike': 0.0002835270768358378}, 'examine': {'like': 0.0005670541536716756, 'dislike': 0.0002835270768358378}, 'defect': {'like': 0.0005670541536716756, 'dislike': 0.0002835270768358378}, 'perpendicular': {'like': 0.0005670541536716756, 'dislike': 0.0002835270768358378}, 'd3branes': {'like': 0.0012905425833633515, 'dislike': 0.0002835270768358378}, 'intersection': {'like': 0.002394583898579315, 'dislike': 0.0002835270768358378}, 'consisting': {'like': 0.0005670541536716756, 'dislike': 0.0002835270768358378}, 'u1': {'like': 0.0005670541536716756, 'dislike': 0.0002835270768358378}, 'charged': {'like': 0.0012905425833633515, 'dislike': 0.0002835270768358378}, 'hypermultiplets': {'like': 0.0012905425833633515, 'dislike': 0.0002835270768358378}, 'must': {'like': 0.0012905425833633515, 'dislike': 0.0002835270768358378}, 'magnetically': {'like': 0.0005670541536716756, 'dislike': 0.0002835270768358378}, 'soliton': {'like': 0.0005670541536716756, 'dislike': 0.0002835270768358378}, 'corresponding': {'like': 0.0005670541536716756, 'dislike': 0.0002835270768358378}, 'dstring': {'like': 0.0005670541536716756, 'dislike': 0.0002835270768358378}, 'stretched': {'like': 0.0005670541536716756, 'dislike': 0.0002835270768358378}, 'branes': {'like': 0.0005670541536716756, 'dislike': 0.0002835270768358378}, 'magnetic': {'like': 0.002394583898579315, 'dislike': 0.0002835270768358378}, 'electric': {'like': 0.0005670541536716756, 'dislike': 0.0002835270768358378}, 'charges': {'like': 0.0005670541536716756, 'dislike': 0.0002835270768358378}, 'confined': {'like': 0.0005670541536716756, 'dislike': 0.0002835270768358378}, 'hypermultiplet': {'like': 0.002394583898579315, 'dislike': 0.0002835270768358378}, 'action': {'like': 0.0012905425833633515, 'dislike': 0.0002835270768358378}, 'canonical': {'like': 0.0005670541536716756, 'dislike': 0.0002835270768358378}, 'considerations': {'like': 0.0005670541536716756, 'dislike': 0.0002835270768358378}, 'periodicity': {'like': 0.0005670541536716756, 'dislike': 0.0002835270768358378}, 'space': {'like': 0.0005670541536716756, 'dislike': 0.0002835270768358378}, 'lead': {'like': 0.0012905425833633515, 'dislike': 0.0002835270768358378}, 'nontrivial': {'like': 0.0005670541536716756, 'dislike': 0.0002835270768358378}, 'gibbonshawking': {'like': 0.0005670541536716756, 'dislike': 0.0002835270768358378}, 'metric': {'like': 0.0012905425833633515, 'dislike': 0.0002835270768358378}, 'kink': {'like': 0.0005670541536716756, 'dislike': 0.0002835270768358378}, 'solution': {'like': 0.0005670541536716756, 'dislike': 0.0002835270768358378}, 'singularity': {'like': 0.0005670541536716756, 'dislike': 0.0002835270768358378}, 'resolved': {'like': 0.0005670541536716756, 'dislike': 0.0002835270768358378}, 'embedding': {'like': 0.0005670541536716756, 'dislike': 0.0002835270768358378}, 'full': {'like': 0.0005670541536716756, 'dislike': 0.0002835270768358378}, 'another': {'like': 0.0005670541536716756, 'dislike': 0.0002835270768358378}, 'feature': {'like': 0.0005670541536716756, 'dislike': 0.0002835270768358378}, 'classical': {'like': 0.0012905425833633515, 'dislike': 0.0002835270768358378}, 'equations': {'like': 0.0005670541536716756, 'dislike': 0.0002835270768358378}, 'logarithmic': {'like': 0.0005670541536716756, 'dislike': 0.0002835270768358378}, 'divergences': {'like': 0.0005670541536716756, 'dislike': 0.0002835270768358378}, 'renormalization': {'like': 0.0005670541536716756, 'dislike': 0.0002835270768358378}, 'group': {'like': 0.0005670541536716756, 'dislike': 0.0002835270768358378}, 'flow': {'like': 0.0005670541536716756, 'dislike': 0.0002835270768358378}}, 'liked_papers': ['1611.04650', '1609.04036', '1602.06422', '1601.06145', '1601.06768', '1512.02477', '1509.05710', '1501.06577', '1402.6334', '1402.6327'], 'disliked_papers': [], 'total_words': {'like': 527, 'dislike': 0}}\n"
     ]
    }
   ],
   "source": [
    "personal_data = axs.read_personal_data()"
   ]
  },
  {
   "cell_type": "markdown",
   "metadata": {},
   "source": [
    "## Read arXiv"
   ]
  },
  {
   "cell_type": "code",
   "execution_count": 10,
   "metadata": {
    "collapsed": false
   },
   "outputs": [
    {
     "name": "stdout",
     "output_type": "stream",
     "text": [
      "-------------------------\n",
      "Title:  What is the Magnetic Weak Gravity Conjecture for Axions?\n",
      "Authors:  Arthur Hebecker, Philipp Henkenjohann, Lukas T. Witkowski\n",
      "arXiv id:  1701.06553\n",
      "Summary:  The electric Weak Gravity Conjecture demands that axions with large decay\n",
      "constant $f$ couple to light instantons. The resulting large instantonic\n",
      "corrections pose problems for natural inflation. We explore an alternative\n",
      "argument based on the magnetic Weak Gravity Conjecture for axions, which we try\n",
      "to make more precise. Roughly speaking, it demands that the minimally charged\n",
      "string coupled to the dual 2-form-field exists in the effective theory. Most\n",
      "naively, such large-$f$ strings curve space too much to exist as static\n",
      "solutions, thus ruling out large-$f$ axions. More conservatively, one might\n",
      "allow non-static string solutions to play the role of the required charged\n",
      "objects. In this case, topological inflation would save the superplanckian\n",
      "axion. Furthermore, a large-$f$ axion may appear in the low-energy effective\n",
      "theory based on two subplanckian axions in the UV. The resulting effective\n",
      "string is a composite object built from several fundamental strings and domain\n",
      "walls. It may or may not satisfy the magnetic Weak Gravity Conjecture depending\n",
      "on how strictly the latter is interpreted and on the cosmological dynamics of\n",
      "this composite object, which remain to be fully understood. Finally, we recall\n",
      "that large-field brane inflation is naively possible in the codimension-one\n",
      "case. We show how string-theoretic back-reaction closes this apparent loophole\n",
      "of large-$f$ (non-periodic) pseudo-axions.\n",
      "-------------------------\n",
      "\n",
      "-------------------------\n",
      "Title:  Gravitational Coupling from Active Gravity\n",
      "Authors:  Tao Lei, Zi-Wei Chen, Zhen-Lai Wang, Xiang-Song Chen\n",
      "arXiv id:  1702.02921\n",
      "Summary:  We attempt to construct a gravitational coupling by pre-selecting an\n",
      "energy-momentum tensor as the source for gravitational field. The\n",
      "energy-momentum tensor we take is a recently derived new expression motivated\n",
      "by joint localization of energy and momentum in quantum measurement. This\n",
      "energy-momentum tensor differs from the traditional canonical and symmetric\n",
      "ones, and the theory we obtain is of an Einstein-Cartan type, but derived from\n",
      "a minimal coupling of a Lagrangian with second-derivative, and leads to\n",
      "additional interaction between torsion and matter, including the scalar field.\n",
      "For the scalar field, the theory can also be derived in the Riemann space-time\n",
      "by a non-minimal coupling. Our study gives hint on more general tests of\n",
      "general relativistic effects.\n",
      "-------------------------\n",
      "\n",
      "-------------------------\n",
      "Title:  Smoothing expansion rate data to reconstruct cosmological matter\n",
      "  perturbations\n",
      "Authors:  J. E. Gonzalez, J. S. Alcaniz, J. C. Carvalho\n",
      "arXiv id:  1702.02923\n",
      "Summary:  The existing degeneracy between different dark energy and modified gravity\n",
      "cosmologies at the background level may be broken by analysing quantities at\n",
      "the perturbative level. In this work, we apply a non-parametric smoothing (NPS)\n",
      "method to reconstruct the expansion history of the Universe ($H(z)$) from\n",
      "model-independent cosmic chronometers and high-$z$ quasar data. Assuming a\n",
      "homogeneous and isotropic flat universe and general relativity (GR) as the\n",
      "gravity theory, we calculate the non-relativistic matter perturbations in the\n",
      "linear regime using the $H(z)$ reconstruction and realistic values of\n",
      "$\\Omega_{m0}$ and $\\sigma_8$ from Planck and WMAP-9 collaborations. We find a\n",
      "good agreement between the measurements of the growth rate and $f\\sigma_8(z)$\n",
      "from current large-scale structure observations and the estimates obtained from\n",
      "the reconstruction of the cosmic expansion history. Considering a recently\n",
      "proposed null test for GR using matter perturbations, we also apply the NPS\n",
      "method to reconstruct $f\\sigma_8(z)$. For this case, we find a $\\sim 2\\sigma$\n",
      "tension (good agreement) with the standard relativistic cosmology when the\n",
      "Planck (WMAP-9) priors are used.\n",
      "-------------------------\n",
      "\n",
      "-------------------------\n",
      "Title:  Yang-Baxter $σ$-models, conformal twists & noncommutative\n",
      "  Yang-Mills\n",
      "Authors:  T. Araujo, I. Bakhmatov, E. Ó Colgáin, J. Sakamoto, M. M. Sheikh-Jabbari, K. Yoshida\n",
      "arXiv id:  1702.02861\n",
      "Summary:  The Yang-Baxter $\\sigma$-model is a systematic way to generate integrable\n",
      "deformations of AdS$_5\\times$S$^5$. We recast the deformations as seen by open\n",
      "strings, where the metric is undeformed AdS$_5\\times$S$^5$ with constant string\n",
      "coupling, and all information about the deformation is encoded in the\n",
      "noncommutative (NC) parameter $\\Theta$. We identify the deformations of AdS$_5$\n",
      "as twists of the conformal algebra, thus explaining the noncommutativity. We\n",
      "show that the unimodularity conditon on $r$-matrices for supergravity solutions\n",
      "translates into $\\Theta$ being divergence-free. Integrability of the\n",
      "$\\sigma$-model for unimodular $r$-matrices implies the existence and planar\n",
      "integrability of the dual NC gauge theory.\n",
      "-------------------------\n",
      "\n",
      "-------------------------\n",
      "Title:  Reissner-Nordstrøm-de Sitter Manifold : Photon Sphere and Maximal\n",
      "  Analytic Extension\n",
      "Authors:  Mokdad Mokdad\n",
      "arXiv id:  1701.06982\n",
      "Summary:  This paper is devoted to the study of the Reissner-Nordstr{\\o}m-de Sitter\n",
      "black holes and their maximal analytic extensions. In particular, we study some\n",
      "of their properties that lays the groundwork for separate papers where we\n",
      "obtain decay results and construct conformal scattering theories for test\n",
      "fields on such spacetimes. Here, we find the necessary and sufficient\n",
      "conditions on the parameters of the Reissner-Nordstr{\\o}m-de Sitter metric\n",
      "-namely, the mass, the charge, and the cosmological constant- to have three\n",
      "horizons. Under this conditions, we prove that there is only one photon sphere\n",
      "and we locate it. We then give a detailed construction of the maximal analytic\n",
      "extension of the Reissner-Nordstr{\\o}m-de Sitter manifold in the case of three\n",
      "horizons.\n",
      "-------------------------\n",
      "\n"
     ]
    }
   ],
   "source": [
    "axs.read_arxiv('cat:gr-qc', 0, 5)"
   ]
  },
  {
   "cell_type": "markdown",
   "metadata": {},
   "source": [
    "where in `axs.read_arxiv`, we have sorted the order of shown up papers by NB. Indeed, we can print out the un-sorted, by:"
   ]
  },
  {
   "cell_type": "code",
   "execution_count": 9,
   "metadata": {
    "collapsed": false
   },
   "outputs": [
    {
     "name": "stdout",
     "output_type": "stream",
     "text": [
      "-------------------------\n",
      "Title:  Smoothing expansion rate data to reconstruct cosmological matter\n",
      "  perturbations\n",
      "Authors:  J. E. Gonzalez, J. S. Alcaniz, J. C. Carvalho\n",
      "arXiv id:  1702.02923\n",
      "Summary:  ['existing', 'degeneracy', 'between', 'different', 'dark', 'energy', 'modified', 'gravity', 'cosmologies', 'background', 'level', 'may', 'broken', 'analysing', 'quantities', 'perturbative', 'level', 'apply', 'nonparametric', 'smoothing', 'nps', 'method', 'reconstruct', 'expansion', 'history', 'universe', 'hz', 'modelindependent', 'cosmic', 'chronometers', 'highz', 'quasar', 'data', 'assuming', 'homogeneous', 'isotropic', 'flat', 'universe', 'general', 'relativity', 'gr', 'gravity', 'theory', 'calculate', 'nonrelativistic', 'matter', 'perturbations', 'linear', 'regime', 'using', 'hz', 'reconstruction', 'realistic', 'values', 'omegam0', 'sigma8', 'planck', 'wmap9', 'collaborations', 'find', 'agreement', 'between', 'measurements', 'growth', 'rate', 'fsigma8z', 'current', 'largescale', 'structure', 'observations', 'estimates', 'obtained', 'reconstruction', 'cosmic', 'expansion', 'history', 'considering', 'recently', 'proposed', 'null', 'test', 'gr', 'using', 'matter', 'perturbations', 'apply', 'nps', 'method', 'reconstruct', 'fsigma8z', 'case', 'find', 'sim', '2sigma', 'tension', 'agreement', 'standard', 'relativistic', 'cosmology', 'planck', 'wmap9', 'priors', 'used']\n",
      "-------------------------\n",
      "\n",
      "-------------------------\n",
      "Title:  Gravitational Coupling from Active Gravity\n",
      "Authors:  Tao Lei, Zi-Wei Chen, Zhen-Lai Wang, Xiang-Song Chen\n",
      "arXiv id:  1702.02921\n",
      "Summary:  ['attempt', 'construct', 'gravitational', 'coupling', 'preselecting', 'energymomentum', 'tensor', 'source', 'gravitational', 'field', 'energymomentum', 'tensor', 'recently', 'derived', 'expression', 'motivated', 'joint', 'localization', 'energy', 'momentum', 'quantum', 'measurement', 'energymomentum', 'tensor', 'differs', 'traditional', 'canonical', 'symmetric', 'ones', 'theory', 'obtain', 'einsteincartan', 'type', 'derived', 'minimal', 'coupling', 'lagrangian', 'secondderivative', 'leads', 'additional', 'interaction', 'between', 'torsion', 'matter', 'including', 'scalar', 'field', 'scalar', 'field', 'theory', 'derived', 'riemann', 'spacetime', 'nonminimal', 'coupling', 'study', 'gives', 'hint', 'more', 'general', 'tests', 'general', 'relativistic', 'effects']\n",
      "-------------------------\n",
      "\n",
      "-------------------------\n",
      "Title:  What is the Magnetic Weak Gravity Conjecture for Axions?\n",
      "Authors:  Arthur Hebecker, Philipp Henkenjohann, Lukas T. Witkowski\n",
      "arXiv id:  1701.06553\n",
      "Summary:  ['electric', 'weak', 'gravity', 'conjecture', 'demands', 'axions', 'large', 'decay', 'constant', 'f', 'couple', 'light', 'instantons', 'resulting', 'large', 'instantonic', 'corrections', 'pose', 'problems', 'natural', 'inflation', 'explore', 'alternative', 'argument', 'based', 'magnetic', 'weak', 'gravity', 'conjecture', 'axions', 'try', 'more', 'precise', 'roughly', 'speaking', 'demands', 'minimally', 'charged', 'string', 'coupled', 'dual', '2formfield', 'exists', 'effective', 'theory', 'naively', 'such', 'largef', 'strings', 'curve', 'space', 'too', 'much', 'exist', 'static', 'solutions', 'thus', 'ruling', 'largef', 'axions', 'more', 'conservatively', 'might', 'allow', 'nonstatic', 'string', 'solutions', 'play', 'role', 'required', 'charged', 'objects', 'case', 'topological', 'inflation', 'save', 'superplanckian', 'axion', 'furthermore', 'largef', 'axion', 'may', 'appear', 'lowenergy', 'effective', 'theory', 'based', 'subplanckian', 'axions', 'uv', 'resulting', 'effective', 'string', 'composite', 'object', 'built', 'several', 'fundamental', 'strings', 'domain', 'walls', 'may', 'may', 'satisfy', 'magnetic', 'weak', 'gravity', 'conjecture', 'depending', 'strictly', 'latter', 'interpreted', 'cosmological', 'dynamics', 'composite', 'object', 'remain', 'fully', 'understood', 'finally', 'recall', 'largefield', 'brane', 'inflation', 'naively', 'possible', 'codimensionone', 'case', 'show', 'stringtheoretic', 'backreaction', 'closes', 'apparent', 'loophole', 'largef', 'nonperiodic', 'pseudoaxions']\n",
      "-------------------------\n",
      "\n",
      "-------------------------\n",
      "Title:  Reissner-Nordstrøm-de Sitter Manifold : Photon Sphere and Maximal\n",
      "  Analytic Extension\n",
      "Authors:  Mokdad Mokdad\n",
      "arXiv id:  1701.06982\n",
      "Summary:  ['paper', 'devoted', 'study', 'reissnernordstromde', 'sitter', 'black', 'holes', 'maximal', 'analytic', 'extensions', 'particular', 'study', 'properties', 'lays', 'groundwork', 'separate', 'papers', 'where', 'obtain', 'decay', 'results', 'construct', 'conformal', 'scattering', 'theories', 'test', 'fields', 'such', 'spacetimes', 'here', 'find', 'necessary', 'sufficient', 'conditions', 'parameters', 'reissnernordstromde', 'sitter', 'metric', 'namely', 'mass', 'charge', 'cosmological', 'constant', 'three', 'horizons', 'under', 'conditions', 'prove', 'photon', 'sphere', 'locate', 'detailed', 'construction', 'maximal', 'analytic', 'extension', 'reissnernordstromde', 'sitter', 'manifold', 'case', 'three', 'horizons']\n",
      "-------------------------\n",
      "\n",
      "-------------------------\n",
      "Title:  Yang-Baxter $σ$-models, conformal twists & noncommutative\n",
      "  Yang-Mills\n",
      "Authors:  T. Araujo, I. Bakhmatov, E. Ó Colgáin, J. Sakamoto, M. M. Sheikh-Jabbari, K. Yoshida\n",
      "arXiv id:  1702.02861\n",
      "Summary:  ['yangbaxter', 'sigmamodel', 'systematic', 'generate', 'integrable', 'deformations', 'ads5timess5', 'recast', 'deformations', 'seen', 'open', 'strings', 'where', 'metric', 'undeformed', 'ads5timess5', 'constant', 'string', 'coupling', 'information', 'deformation', 'encoded', 'noncommutative', 'nc', 'parameter', 'theta', 'identify', 'deformations', 'ads5', 'twists', 'conformal', 'algebra', 'thus', 'explaining', 'noncommutativity', 'show', 'unimodularity', 'conditon', 'rmatrices', 'supergravity', 'solutions', 'translates', 'theta', 'being', 'divergencefree', 'integrability', 'sigmamodel', 'unimodular', 'rmatrices', 'implies', 'existence', 'planar', 'integrability', 'dual', 'nc', 'gauge', 'theory']\n",
      "-------------------------\n",
      "\n"
     ]
    }
   ],
   "source": [
    "entries = axs.get_raw_entries('cat:gr-qc', [], 0, 5)\n",
    "for entry in entries:\n",
    "    axs.show_entry(entry)"
   ]
  }
 ],
 "metadata": {
  "kernelspec": {
   "display_name": "Python 3",
   "language": "python",
   "name": "python3"
  },
  "language_info": {
   "codemirror_mode": {
    "name": "ipython",
    "version": 3
   },
   "file_extension": ".py",
   "mimetype": "text/x-python",
   "name": "python",
   "nbconvert_exporter": "python",
   "pygments_lexer": "ipython3",
   "version": "3.6.0"
  }
 },
 "nbformat": 4,
 "nbformat_minor": 2
}
